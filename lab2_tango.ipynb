{
  "cells": [
    {
      "cell_type": "markdown",
      "metadata": {
        "id": "UQdEH6XL-Hx7"
      },
      "source": []
    },
    {
      "cell_type": "code",
      "execution_count": 1,
      "metadata": {
        "id": "QqN5v_TkXS4J"
      },
      "outputs": [],
      "source": [
        "!pip install tensorflow\n",
        "!pip install tensorflow"
      ]
    },
    {
      "cell_type": "code",
      "execution_count": null,
      "metadata": {
        "id": "cl3u8cK--IPx"
      },
      "outputs": [],
      "source": [
        "!pip install tensorflow"
      ]
    },
    {
      "cell_type": "code",
      "execution_count": 54,
      "metadata": {
        "id": "Fke7jB7i76Bz"
      },
      "outputs": [],
      "source": [
        "import pandas as pd\n",
        "import sys\n",
        "import tensorflow.keras\n",
        "import scipy as sp\n",
        "import tensorflow as tf\n",
        "import platform\n",
        "import numpy as np\n",
        "import tensorflow as tf\n",
        "from tensorflow.keras import layers\n",
        "from sklearn.model_selection import train_test_split\n",
        "import matplotlib.pyplot as plt\n",
        "from transformers import BertTokenizer\n",
        "from transformers import TFBertModel # This will load the hugging face bert transformer and set it's parameters to tensorflow\n",
        "# import tensorflow_hub as hub # to load the bert directly from tensorflow hub, already compatible with tensorflow environment.\n",
        "import re\n",
        "import os\n",
        "import tensorflow_addons as tfa"
      ]
    },
    {
      "cell_type": "code",
      "execution_count": null,
      "metadata": {},
      "outputs": [],
      "source": []
    },
    {
      "cell_type": "markdown",
      "metadata": {
        "id": "OYUGNd-Z7fLb"
      },
      "source": [
        "## Load Datasets"
      ]
    },
    {
      "cell_type": "markdown",
      "metadata": {},
      "source": [
        "Use the datasets stored in gradient (paperspace) dataset"
      ]
    },
    {
      "cell_type": "code",
      "execution_count": 2,
      "metadata": {
        "colab": {
          "base_uri": "https://localhost:8080/"
        },
        "id": "Zr9w_FGU7K6Q",
        "outputId": "fb0a514a-1211-4de8-b942-cf9049b3b381"
      },
      "outputs": [
        {
          "data": {
            "text/html": [
              "<div>\n",
              "<style scoped>\n",
              "    .dataframe tbody tr th:only-of-type {\n",
              "        vertical-align: middle;\n",
              "    }\n",
              "\n",
              "    .dataframe tbody tr th {\n",
              "        vertical-align: top;\n",
              "    }\n",
              "\n",
              "    .dataframe thead th {\n",
              "        text-align: right;\n",
              "    }\n",
              "</style>\n",
              "<table border=\"1\" class=\"dataframe\">\n",
              "  <thead>\n",
              "    <tr style=\"text-align: right;\">\n",
              "      <th></th>\n",
              "      <th>review</th>\n",
              "      <th>sentiment</th>\n",
              "    </tr>\n",
              "  </thead>\n",
              "  <tbody>\n",
              "    <tr>\n",
              "      <th>0</th>\n",
              "      <td>One of the other reviewers has mentioned that ...</td>\n",
              "      <td>positive</td>\n",
              "    </tr>\n",
              "    <tr>\n",
              "      <th>1</th>\n",
              "      <td>A wonderful little production. &lt;br /&gt;&lt;br /&gt;The...</td>\n",
              "      <td>positive</td>\n",
              "    </tr>\n",
              "    <tr>\n",
              "      <th>2</th>\n",
              "      <td>I thought this was a wonderful way to spend ti...</td>\n",
              "      <td>positive</td>\n",
              "    </tr>\n",
              "    <tr>\n",
              "      <th>3</th>\n",
              "      <td>Basically there's a family where a little boy ...</td>\n",
              "      <td>negative</td>\n",
              "    </tr>\n",
              "    <tr>\n",
              "      <th>4</th>\n",
              "      <td>Petter Mattei's \"Love in the Time of Money\" is...</td>\n",
              "      <td>positive</td>\n",
              "    </tr>\n",
              "  </tbody>\n",
              "</table>\n",
              "</div>"
            ],
            "text/plain": [
              "                                              review sentiment\n",
              "0  One of the other reviewers has mentioned that ...  positive\n",
              "1  A wonderful little production. <br /><br />The...  positive\n",
              "2  I thought this was a wonderful way to spend ti...  positive\n",
              "3  Basically there's a family where a little boy ...  negative\n",
              "4  Petter Mattei's \"Love in the Time of Money\" is...  positive"
            ]
          },
          "execution_count": 2,
          "metadata": {},
          "output_type": "execute_result"
        }
      ],
      "source": [
        "df = pd.read_csv('/datasets/imdb_dataset/imdb.csv')\n",
        "df.head()"
      ]
    },
    {
      "cell_type": "markdown",
      "metadata": {},
      "source": [
        "##### Load data from google drive"
      ]
    },
    {
      "cell_type": "code",
      "execution_count": 3,
      "metadata": {
        "id": "h_5xRr2Z7lnV"
      },
      "outputs": [
        {
          "ename": "FileNotFoundError",
          "evalue": "[Errno 2] No such file or directory: '/content/drive/My Drive/ML_Advance/lab2_transfer_learning/data/'",
          "output_type": "error",
          "traceback": [
            "\u001b[0;31m---------------------------------------------------------------------------\u001b[0m",
            "\u001b[0;31mFileNotFoundError\u001b[0m                         Traceback (most recent call last)",
            "Cell \u001b[0;32mIn [3], line 2\u001b[0m\n\u001b[1;32m      1\u001b[0m \u001b[38;5;28;01mimport\u001b[39;00m \u001b[38;5;21;01mos\u001b[39;00m\n\u001b[0;32m----> 2\u001b[0m \u001b[43mos\u001b[49m\u001b[38;5;241;43m.\u001b[39;49m\u001b[43mchdir\u001b[49m\u001b[43m(\u001b[49m\u001b[38;5;124;43m'\u001b[39;49m\u001b[38;5;124;43m/content/drive/My Drive/ML_Advance/lab2_transfer_learning/data/\u001b[39;49m\u001b[38;5;124;43m'\u001b[39;49m\u001b[43m)\u001b[49m\n\u001b[1;32m      4\u001b[0m df \u001b[38;5;241m=\u001b[39m pd\u001b[38;5;241m.\u001b[39mread_csv(\u001b[38;5;124m'\u001b[39m\u001b[38;5;124mimdb.csv\u001b[39m\u001b[38;5;124m'\u001b[39m)\n",
            "\u001b[0;31mFileNotFoundError\u001b[0m: [Errno 2] No such file or directory: '/content/drive/My Drive/ML_Advance/lab2_transfer_learning/data/'"
          ]
        }
      ],
      "source": [
        "import os\n",
        "os.chdir('/content/drive/My Drive/ML_Advance/lab2_transfer_learning/data/')\n",
        "\n",
        "df = pd.read_csv('imdb.csv')"
      ]
    },
    {
      "cell_type": "code",
      "execution_count": 4,
      "metadata": {
        "colab": {
          "base_uri": "https://localhost:8080/"
        },
        "id": "20tI644H79NR",
        "outputId": "2c1ea215-84b9-43ee-af08-99d186a3b3a4"
      },
      "outputs": [
        {
          "name": "stdout",
          "output_type": "stream",
          "text": [
            "           review\n",
            "sentiment        \n",
            "negative    25000\n",
            "positive    25000\n",
            "                                              review sentiment\n",
            "0  One of the other reviewers has mentioned that ...  positive\n",
            "1  A wonderful little production. <br /><br />The...  positive\n",
            "2  I thought this was a wonderful way to spend ti...  positive\n",
            "3  Basically there's a family where a little boy ...  negative\n",
            "4  Petter Mattei's \"Love in the Time of Money\" is...  positive\n"
          ]
        }
      ],
      "source": [
        "print(df.groupby('sentiment').count())\n",
        "print(df.head())"
      ]
    },
    {
      "cell_type": "markdown",
      "metadata": {},
      "source": [
        "#### Initialize the GPU in paperspace"
      ]
    },
    {
      "cell_type": "code",
      "execution_count": 225,
      "metadata": {
        "colab": {
          "base_uri": "https://localhost:8080/"
        },
        "id": "vnlQsG97pYMI",
        "outputId": "23614d19-9e6d-4a63-80e0-4739568ab232"
      },
      "outputs": [
        {
          "name": "stdout",
          "output_type": "stream",
          "text": [
            "GPU available\n",
            "/device:GPU:0\n"
          ]
        }
      ],
      "source": [
        "gpu = tf.config.list_logical_devices('GPU')\n",
        "with_gpu = None\n",
        "if len(gpu) == 0:\n",
        "    print('No GPU available')\n",
        "else:\n",
        "    print('GPU available')\n",
        "    with_gpu = tf.device(gpu[0].name)\n",
        "    print(gpu[0].name)"
      ]
    },
    {
      "cell_type": "markdown",
      "metadata": {},
      "source": [
        "#### Setup GPU for google colab"
      ]
    },
    {
      "cell_type": "code",
      "execution_count": 118,
      "metadata": {
        "colab": {
          "base_uri": "https://localhost:8080/"
        },
        "id": "KdWwuNJRTSGP",
        "outputId": "5b66d924-28c8-4b47-c9e8-9d8b624b8c6c"
      },
      "outputs": [
        {
          "name": "stderr",
          "output_type": "stream",
          "text": [
            "WARNING:tensorflow:TPU system grpc://10.38.42.18:8470 has already been initialized. Reinitializing the TPU can cause previously created variables on TPU to be lost.\n",
            "WARNING:absl:`tf.distribute.experimental.TPUStrategy` is deprecated, please use  the non experimental symbol `tf.distribute.TPUStrategy` instead.\n"
          ]
        }
      ],
      "source": [
        "resolver = tf.distribute.cluster_resolver.TPUClusterResolver(tpu='grpc://' + os.environ['COLAB_TPU_ADDR'])\n",
        "tf.config.experimental_connect_to_cluster(resolver)\n",
        "tf.tpu.experimental.initialize_tpu_system(resolver)\n",
        "\n",
        "strategy = tf.distribute.experimental.TPUStrategy(resolver)"
      ]
    },
    {
      "cell_type": "code",
      "execution_count": 119,
      "metadata": {
        "colab": {
          "base_uri": "https://localhost:8080/"
        },
        "id": "efptT5G9YY3g",
        "outputId": "8e28a336-33e3-42d2-d9af-b9705f697aaa"
      },
      "outputs": [
        {
          "name": "stdout",
          "output_type": "stream",
          "text": [
            "Num TPUs Available:  8\n"
          ]
        }
      ],
      "source": [
        "print(\"Num TPUs Available: \", len(tf.config.list_logical_devices('TPU')))"
      ]
    },
    {
      "cell_type": "markdown",
      "metadata": {
        "id": "t9tfMFC58g1m"
      },
      "source": [
        "### Preprocess the dataset"
      ]
    },
    {
      "cell_type": "markdown",
      "metadata": {
        "id": "g_UtoZg-96MC"
      },
      "source": [
        "### Remove Unwanted characters, and try to use only the first 20000 rows of the data to speed up our fine-tunning.\n",
        "- remove punctuation marks\n",
        "- remove characters which are not letters or digits\n",
        "- remove successive whitespaces\n",
        "- convert the text to lower case\n",
        "- strip whitespaces from the beginning and the end of the reviews"
      ]
    },
    {
      "cell_type": "code",
      "execution_count": 6,
      "metadata": {
        "colab": {
          "base_uri": "https://localhost:8080/"
        },
        "id": "6CDXJPtF8kGF",
        "outputId": "e760f92b-1ef7-4852-f137-08ea716d10f4"
      },
      "outputs": [],
      "source": [
        "df.sentiment = [0 if s == 'negative' else 1 for s in df.sentiment]\n",
        "def process(x):\n",
        "    x = re.sub('[,\\.!?:()\"]', '', x)\n",
        "    x = re.sub('<.*?>', ' ', x)\n",
        "    x = re.sub('http\\S+', ' ', x)\n",
        "    x = re.sub('[^a-zA-Z0-9]', ' ', x)\n",
        "    x = re.sub('\\s+', ' ', x)\n",
        "    return x.lower().strip()\n",
        "\n",
        "df['review'] = df['review'].apply(lambda x: process(x))"
      ]
    },
    {
      "cell_type": "markdown",
      "metadata": {
        "id": "2NFF7Hsa-RhR"
      },
      "source": [
        "#### Plot the data distribution over the labels\n",
        "- Determine how balance the dataset is."
      ]
    },
    {
      "cell_type": "code",
      "execution_count": 7,
      "metadata": {
        "colab": {
          "base_uri": "https://localhost:8080/"
        },
        "id": "WGouvl3N-3-7",
        "outputId": "1fc76c60-e508-47a1-fae5-85f0ea2db28f"
      },
      "outputs": [
        {
          "name": "stdout",
          "output_type": "stream",
          "text": [
            "0    1\n",
            "1    1\n",
            "2    1\n",
            "3    0\n",
            "4    1\n",
            "Name: sentiment, dtype: int64\n",
            "(50000, 2)\n"
          ]
        }
      ],
      "source": [
        "print(df.sentiment.head())\n",
        "print(df.shape)\n"
      ]
    },
    {
      "cell_type": "code",
      "execution_count": 55,
      "metadata": {},
      "outputs": [],
      "source": [
        "df = df.head(20000)"
      ]
    },
    {
      "cell_type": "code",
      "execution_count": 8,
      "metadata": {
        "colab": {
          "base_uri": "https://localhost:8080/",
          "height": 564
        },
        "id": "lnPzQ8P6-fUR",
        "outputId": "d01b0f4e-319d-4b89-9cdf-b8ea56f71d4c"
      },
      "outputs": [
        {
          "data": {
            "image/png": "[encoded data removed]",
            "text/plain": [
              "<Figure size 800x600 with 1 Axes>"
            ]
          },
          "metadata": {},
          "output_type": "display_data"
        }
      ],
      "source": [
        "# Calculate the number of sentences for each sentiment category\n",
        "positive_counts = len(df[df.sentiment == 1])\n",
        "negative_counts = len(df[df.sentiment == 0])\n",
        "\n",
        "# Plotting\n",
        "plt.figure(figsize=(8, 6))\n",
        "plt.bar(['Positive', 'Negative'], [positive_counts, negative_counts], color=['green', 'red'])\n",
        "plt.title('Distribution of Sentence Counts by Sentiment')\n",
        "plt.xlabel('Sentiment')\n",
        "plt.ylabel('Sentence Counts')\n",
        "plt.show()"
      ]
    },
    {
      "cell_type": "markdown",
      "metadata": {
        "id": "4pOfcI_xANhj"
      },
      "source": [
        "#### Prepare data for Bert, padding them (masking them appropriately)\n",
        "Let’s first see how the BERT tokenizer converts sentences into token ids. token ids : it is an integer that represents a particular token.\n",
        "\n",
        "**attention mask** : it is a sequence of ones and zeroes to tell the model which token comes from input sentence (segment id =1) and which are just padding token(segment id =0).\n",
        "\n",
        "**padding** : when we train BERT model we make sure that every input to the model should have same size that means same length of inputs so that the model can perform back propagation efficiently but all our input which are review text can not be in same size, some can be small review and some can be large. Padding is the technique where we make our entire review in the same size but first we have to decide a fixed length or max_length."
      ]
    },
    {
      "cell_type": "markdown",
      "metadata": {
        "id": "JDWv8Kr1AyCq"
      },
      "source": [
        "##### Split our dataset into 80/20\n",
        "- Since these dataset is balanced and have enough dataset for splitting, it make sense that we can use 80/20"
      ]
    },
    {
      "cell_type": "code",
      "execution_count": 33,
      "metadata": {
        "colab": {
          "base_uri": "https://localhost:8080/"
        },
        "id": "T6aXOFBSAcjX",
        "outputId": "9c33a615-acdd-492d-e6d0-4d5b89a5eb20"
      },
      "outputs": [
        {
          "name": "stdout",
          "output_type": "stream",
          "text": [
            "(40000,) (10000,)\n",
            "(40000,) (10000,)\n"
          ]
        }
      ],
      "source": [
        "train, test = train_test_split(df, test_size=0.2)\n",
        "\n",
        "train_sentences = train.review\n",
        "train_labels = train.sentiment\n",
        "test_sentences = test.review\n",
        "test_labels = test.sentiment\n",
        "\n",
        "\n",
        "print(train_sentences.shape, test_sentences.shape)\n",
        "print(train_labels.shape, test_labels.shape)"
      ]
    },
    {
      "cell_type": "markdown",
      "metadata": {
        "id": "lOi-BxTGD83s"
      },
      "source": [
        "#### Masking and Padding dataset\n",
        "Hugging face library provides another function called tokenizer.encode_plus() which we will use to perform almost entire preprocessing steps in one go. It\n",
        "\n",
        "converts reviews into tokens\n",
        "adds [CLS] token at the beginning of input\n",
        "performs padding if sequence length is less than max_len\n",
        "performs truncation if sequence length is greater than max_len\n",
        "adds [SEP] token at the end of sequence."
      ]
    },
    {
      "cell_type": "markdown",
      "metadata": {},
      "source": [
        "##### Use Colab GPU"
      ]
    },
    {
      "cell_type": "code",
      "execution_count": 58,
      "metadata": {
        "colab": {
          "base_uri": "https://localhost:8080/"
        },
        "id": "yCrQuaAlEEO7",
        "outputId": "a1450b30-861e-4b39-cdc3-b63f1dbba26a"
      },
      "outputs": [
        {
          "ename": "NameError",
          "evalue": "name 'strategy' is not defined",
          "output_type": "error",
          "traceback": [
            "\u001b[0;31m---------------------------------------------------------------------------\u001b[0m",
            "\u001b[0;31mNameError\u001b[0m                                 Traceback (most recent call last)",
            "Cell \u001b[0;32mIn [58], line 1\u001b[0m\n\u001b[0;32m----> 1\u001b[0m \u001b[38;5;28;01mwith\u001b[39;00m \u001b[43mstrategy\u001b[49m\u001b[38;5;241m.\u001b[39mscope():\n\u001b[1;32m      2\u001b[0m     \u001b[38;5;66;03m# Load the BERT tokenizer\u001b[39;00m\n\u001b[1;32m      3\u001b[0m     \u001b[38;5;28mprint\u001b[39m(\u001b[38;5;124m'\u001b[39m\u001b[38;5;124mLoading BERT tokenizer...\u001b[39m\u001b[38;5;124m'\u001b[39m)\n\u001b[1;32m      4\u001b[0m     tokenizer \u001b[38;5;241m=\u001b[39m BertTokenizer\u001b[38;5;241m.\u001b[39mfrom_pretrained(\u001b[38;5;124m'\u001b[39m\u001b[38;5;124mbert-base-uncased\u001b[39m\u001b[38;5;124m'\u001b[39m, do_lower_case\u001b[38;5;241m=\u001b[39m\u001b[38;5;28;01mTrue\u001b[39;00m)\n",
            "\u001b[0;31mNameError\u001b[0m: name 'strategy' is not defined"
          ]
        }
      ],
      "source": [
        "with strategy.scope():\n",
        "    # Load the BERT tokenizer\n",
        "    print('Loading BERT tokenizer...')\n",
        "    tokenizer = BertTokenizer.from_pretrained('bert-base-uncased', do_lower_case=True)"
      ]
    },
    {
      "cell_type": "markdown",
      "metadata": {},
      "source": [
        "##### Use Paperspace GPU"
      ]
    },
    {
      "cell_type": "code",
      "execution_count": 57,
      "metadata": {
        "id": "PhBwgVCoW1jC"
      },
      "outputs": [
        {
          "name": "stdout",
          "output_type": "stream",
          "text": [
            "Loading BERT tokenizer...\n"
          ]
        }
      ],
      "source": [
        "MAX_LEN = 128\n",
        "EPOCCH = 20\n",
        "BATCH_SIZE = 32\n",
        "with with_gpu:\n",
        "    print('Loading BERT tokenizer...')\n",
        "    tokenizer = BertTokenizer.from_pretrained('bert-base-uncased', do_lower_case=True)"
      ]
    },
    {
      "cell_type": "markdown",
      "metadata": {
        "id": "myWQnRapC11C"
      },
      "source": [
        "### Load the Model and set it up for Feature space transfers"
      ]
    },
    {
      "cell_type": "markdown",
      "metadata": {},
      "source": [
        "##### Load model with paperspace GPU"
      ]
    },
    {
      "cell_type": "code",
      "execution_count": 156,
      "metadata": {},
      "outputs": [
        {
          "name": "stderr",
          "output_type": "stream",
          "text": [
            "Some layers from the model checkpoint at bert-base-uncased were not used when initializing TFBertModel: ['mlm___cls', 'nsp___cls']\n",
            "- This IS expected if you are initializing TFBertModel from the checkpoint of a model trained on another task or with another architecture (e.g. initializing a BertForSequenceClassification model from a BertForPreTraining model).\n",
            "- This IS NOT expected if you are initializing TFBertModel from the checkpoint of a model that you expect to be exactly identical (initializing a BertForSequenceClassification model from a BertForSequenceClassification model).\n",
            "All the layers of TFBertModel were initialized from the model checkpoint at bert-base-uncased.\n",
            "If your task is similar to the task the model of the checkpoint was trained on, you can already use TFBertModel for predictions without further training.\n"
          ]
        }
      ],
      "source": [
        "with with_gpu:\n",
        "    bert_model = TFBertModel.from_pretrained('bert-base-uncased')"
      ]
    },
    {
      "cell_type": "markdown",
      "metadata": {},
      "source": [
        "##### Extract the Features and save them"
      ]
    },
    {
      "cell_type": "code",
      "execution_count": 16,
      "metadata": {},
      "outputs": [],
      "source": [
        "# Test saving to the paperspace file system\n",
        "l = []\n",
        "np.save('/notebooks/lab2/test.npy', np.array(l.extend(train_labels)))"
      ]
    },
    {
      "cell_type": "code",
      "execution_count": 34,
      "metadata": {},
      "outputs": [],
      "source": [
        "def bytesto(bytes, to, bsize=1024):\n",
        "    \"\"\"convert bytes to megabytes, etc.\n",
        "       sample code:\n",
        "           print('mb= ' + str(bytesto(314575262000000, 'm')))\n",
        "       sample output: \n",
        "           mb= 300002347.946\n",
        "    \"\"\"\n",
        "\n",
        "    a = {'k' : 1, 'm': 2, 'g' : 3, 't' : 4, 'p' : 5, 'e' : 6 }\n",
        "    r = float(bytes)\n",
        "    for i in range(a[to]):\n",
        "        r = r / bsize\n",
        "\n",
        "    return(r)\n",
        "\n",
        "def print_gpu_usage():\n",
        "    print(\"GPU Peak Memory: \", bytesto(tf.config.experimental.get_memory_info('GPU:0')['peak'], 'g'), 'G')\n",
        "    print(\"GPU Current Memory Usage: \", bytesto(tf.config.experimental.get_memory_usage('GPU:0'), 'g'), 'G')"
      ]
    },
    {
      "cell_type": "markdown",
      "metadata": {},
      "source": [
        "##### Extract the features batch by batch to save the memory(paperspace memory issue resolution)"
      ]
    },
    {
      "cell_type": "code",
      "execution_count": 35,
      "metadata": {},
      "outputs": [],
      "source": [
        "def save_bottleneck(bert_model, tokenizer, ds, batch_size, max_length, filename_addendum, verbose=False):\n",
        "    bottleneck_features = []\n",
        "    labels_train = []\n",
        "\n",
        "    batch_num = 1\n",
        "    for i in range(0, ds.shape[0], batch_size):\n",
        "        batch = ds.iloc[i:i+batch_size].review.tolist()\n",
        "        inputs = tokenizer(\n",
        "            text=batch,\n",
        "            add_special_tokens=True,\n",
        "            max_length=max_length,\n",
        "            truncation=True,\n",
        "            padding=True,\n",
        "            return_tensors='tf',\n",
        "            return_token_type_ids=False,\n",
        "            return_attention_mask=True,\n",
        "            verbose=True\n",
        "        )\n",
        "\n",
        "        out = bert_model(inputs)\n",
        "        bottleneck_features.extend(out.pooler_output)\n",
        "        labels_train.extend(ds.iloc[i:i+batch_size].sentiment)\n",
        "\n",
        "        del out\n",
        "        if verbose and batch_num % 500 == 0:\n",
        "            print(\"Batch {} - size {}\".format(batch_num, len(batch)))\n",
        "            print_gpu_usage()\n",
        "        batch_num = batch_num + 1\n",
        "\n",
        "    print(\"Total Number of batches {} - Length of bottleneck features {}\".format(batch_num, len(bottleneck_features)))\n",
        "    bottleneck_features = np.array(bottleneck_features)\n",
        "    labels_train = np.array(labels_train)\n",
        "    data_filename = '/notebooks/lab2/feature_space/bottleneck_features_{}_{}.npy'.format(filename_addendum, max_length)\n",
        "    labels_filename = '/notebooks/lab2/feature_space/bottleneck_labels_{}_{}.npy'.format(filename_addendum, max_length)\n",
        "    np.save(data_filename, bottleneck_features)\n",
        "    np.save(labels_filename, labels_train)\n",
        "\n",
        "    return data_filename, labels_filename"
      ]
    },
    {
      "cell_type": "code",
      "execution_count": 37,
      "metadata": {},
      "outputs": [
        {
          "data": {
            "text/plain": [
              "'one of the other reviewers has mentioned that after watching just 1 oz episode you ll be hooked they are right as this is exactly what happened with me the first thing that struck me about oz was its brutality and unflinching scenes of violence which set in right from the word go trust me this is not a show for the faint hearted or timid this show pulls no punches with regards to drugs sex or violence its is hardcore in the classic use of the word it is called oz as that is the nickname given to the oswald maximum security state penitentary it focuses mainly on emerald city an experimental section of the prison where all the cells have glass fronts and face inwards so privacy is not high on the agenda em city is home to manyaryans muslims gangstas latinos christians italians irish and moreso scuffles death stares dodgy dealings and shady agreements are never far away i would say the main appeal of the show is due to the fact that it goes where other shows wouldn t dare forget pretty pictures painted for mainstream audiences forget charm forget romanceoz doesn t mess around the first episode i ever saw struck me as so nasty it was surreal i couldn t say i was ready for it but as i watched more i developed a taste for oz and got accustomed to the high levels of graphic violence not just violence but injustice crooked guards who ll be sold out for a nickel inmates who ll kill on order and get away with it well mannered middle class inmates being turned into prison bitches due to their lack of street skills or prison experience watching oz you may become comfortable with what is uncomfortable viewingthats if you can get in touch with your darker side'"
            ]
          },
          "execution_count": 37,
          "metadata": {},
          "output_type": "execute_result"
        }
      ],
      "source": [
        "train[0]"
      ]
    },
    {
      "cell_type": "markdown",
      "metadata": {},
      "source": [
        "##### Extract the features via all at once if we have eough memory"
      ]
    },
    {
      "cell_type": "code",
      "execution_count": 157,
      "metadata": {},
      "outputs": [
        {
          "name": "stdout",
          "output_type": "stream",
          "text": [
            "Batch 500 - size 32\n",
            "GPU Peak Memory:  1.2653696537017822 G\n",
            "GPU Current Memory Usage:  1.0090086460113525 G\n",
            "Batch 1000 - size 32\n",
            "GPU Peak Memory:  1.3122446537017822 G\n",
            "GPU Current Memory Usage:  1.0547850131988525 G\n",
            "Total Number of batches 1251 - Length of bottleneck features 40000\n",
            "Total Number of batches 314 - Length of bottleneck features 10000\n"
          ]
        }
      ],
      "source": [
        "train_ds, train_labels = save_bottleneck(bert_model, tokenizer, train, BATCH_SIZE, MAX_LEN, 'train', True)\n",
        "test_ds, test_labels = save_bottleneck(bert_model, tokenizer, test, BATCH_SIZE, MAX_LEN, 'test', True)"
      ]
    },
    {
      "cell_type": "markdown",
      "metadata": {
        "id": "UrHIDZZbZZRp"
      },
      "source": [
        "### Train a classifier layer with extracted features\n",
        "- Now we can train our classifier with the extracted features\n",
        "- The classifier is simply a fully connected layer with 256 hidden units"
      ]
    },
    {
      "cell_type": "code",
      "execution_count": 171,
      "metadata": {},
      "outputs": [],
      "source": [
        "from keras import backend as K\n",
        "\n",
        "\n",
        "def fbeta_local(y_true, y_pred, beta=2.0):\n",
        "    y_pred = K.clip(y_pred, 0, 1)\n",
        "    tp = K.sum(K.round(K.clip(y_true * y_pred, 0, 1))) # a\n",
        "    tn = K.sum(K.round(K.clip((1 - y_true) * (1 - y_pred), 0, 1))) # d\n",
        "    fp = K.sum(K.round(K.clip((1 - y_true) * y_pred, 0, 1))) \n",
        "    fn = K.sum(K.round(K.clip(y_true * (1 - y_pred), 0, 1)))\n",
        "    \n",
        "    percision = tp / (tp + fp + K.epsilon())\n",
        "    recall = tp / (tp + fn + K.epsilon())\n",
        "    num = (1 + (beta ** 2)) * percision * recall\n",
        "    den =  ((beta ** 2) * percision) + recall + K.epsilon()\n",
        "    return num / den"
      ]
    },
    {
      "cell_type": "code",
      "execution_count": 172,
      "metadata": {},
      "outputs": [],
      "source": [
        "def get_top_model(input_shape, initial_learning_rate, decay_steps, decay_rate):\n",
        "    \"\"\"Creates a simple top model to be trained on top of the bottleneck features.\"\"\"\n",
        "    top_model = tf.keras.Sequential(name='imdb_classifier')\n",
        "    top_model.add(layers.Dense(512, activation='relu', input_shape=(input_shape,)))\n",
        "    top_model.add(layers.Dropout(0.5))\n",
        "    top_model.add(layers.Dense(128, activation='relu'))\n",
        "    top_model.add(layers.Dropout(0.5))\n",
        "    top_model.add(layers.Dense(64, activation='relu'))\n",
        "    top_model.add(layers.Dense(1, activation='sigmoid'))\n",
        "\n",
        "    lr_schedule = tf.keras.optimizers.schedules.ExponentialDecay(\n",
        "        initial_learning_rate=initial_learning_rate,\n",
        "        decay_steps=decay_steps,\n",
        "        decay_rate=decay_rate,\n",
        "        staircase=False)  # You can set staircase=True for a staircase decay\n",
        "\n",
        "    optimizer = tf.keras.optimizers.Adam(learning_rate=lr_schedule)\n",
        "    top_model.compile(optimizer=optimizer,\n",
        "                      loss='binary_crossentropy',\n",
        "                      metrics=[\n",
        "                        'accuracy',\n",
        "                        # tfa.metrics.FBetaScore\n",
        "                        # (\n",
        "                        #   num_classes=1,\n",
        "                        #   beta=2.0,\n",
        "                        # )\n",
        "                       fbeta_local \n",
        "                      ]\n",
        "                    )\n",
        "    return top_model"
      ]
    },
    {
      "cell_type": "code",
      "execution_count": null,
      "metadata": {},
      "outputs": [],
      "source": []
    },
    {
      "cell_type": "markdown",
      "metadata": {
        "id": "MuDl4bREaf-9"
      },
      "source": [
        "#### Train the top model"
      ]
    },
    {
      "cell_type": "markdown",
      "metadata": {
        "id": "YpJeS45gN0hl"
      },
      "source": [
        "##### Load the foundational model saved feature space"
      ]
    },
    {
      "cell_type": "code",
      "execution_count": 173,
      "metadata": {
        "colab": {
          "base_uri": "https://localhost:8080/"
        },
        "id": "-6sXjx0HNw7k",
        "outputId": "ecf652cd-ba1a-48be-fcf6-410e9e3c933e"
      },
      "outputs": [
        {
          "name": "stdout",
          "output_type": "stream",
          "text": [
            "Training Data Shape:  (40000, 768) Training Label Shape:  (40000,)\n",
            "Val Data Shape:  (10000, 768) Val Label Shape:  (10000,)\n"
          ]
        }
      ],
      "source": [
        "with with_gpu:\n",
        "  # Load bottleneck features that have already been extracted by base model\n",
        "  saved_train_ds = np.load('/notebooks/lab2/feature_space/bottleneck_features_train_128.npy')\n",
        "  # the first half of labels are sharks, and second half are dolphins\n",
        "  saved_train_labels = np.load('/notebooks/lab2/feature_space/bottleneck_labels_train_128.npy')\n",
        "  print('Training Data Shape: ',saved_train_ds.shape, 'Training Label Shape: ',saved_train_labels.shape)\n",
        "\n",
        "  saved_test_ds = np.load('/notebooks/lab2/feature_space/bottleneck_features_test_128.npy')\n",
        "  # the first half of labels are sharks, and second half are dolphins\n",
        "  saved_test_labels = np.load('/notebooks/lab2/feature_space/bottleneck_labels_test_128.npy')\n",
        "  print('Val Data Shape: ',saved_test_ds.shape, 'Val Label Shape: ', saved_test_labels.shape)\n",
        "\n"
      ]
    },
    {
      "cell_type": "code",
      "execution_count": 174,
      "metadata": {
        "colab": {
          "base_uri": "https://localhost:8080/"
        },
        "id": "rTCnm6Gkaj8j",
        "outputId": "8be9a7e4-58c3-4121-bde8-ef7f6bcaa1c7"
      },
      "outputs": [
        {
          "name": "stdout",
          "output_type": "stream",
          "text": [
            "Training top model, saving the checkpoint...\n",
            "Training transfer model from bottleneck...\n",
            "Epoch 1/20\n",
            "1250/1250 [==============================] - 3s 2ms/step - loss: 0.6639 - accuracy: 0.6019 - fbeta_local: 0.5942 - val_loss: 0.5616 - val_accuracy: 0.7206 - val_fbeta_local: 0.6493\n",
            "Epoch 2/20\n",
            "1250/1250 [==============================] - 3s 2ms/step - loss: 0.5877 - accuracy: 0.6881 - fbeta_local: 0.7078 - val_loss: 0.5376 - val_accuracy: 0.7401 - val_fbeta_local: 0.6875\n",
            "Epoch 3/20\n",
            "1250/1250 [==============================] - 3s 2ms/step - loss: 0.5631 - accuracy: 0.6998 - fbeta_local: 0.7280 - val_loss: 0.5136 - val_accuracy: 0.7567 - val_fbeta_local: 0.7976\n",
            "Epoch 4/20\n",
            "1250/1250 [==============================] - 3s 2ms/step - loss: 0.5536 - accuracy: 0.7090 - fbeta_local: 0.7531 - val_loss: 0.5176 - val_accuracy: 0.7622 - val_fbeta_local: 0.8102\n",
            "Epoch 5/20\n",
            "1250/1250 [==============================] - 3s 2ms/step - loss: 0.5366 - accuracy: 0.7276 - fbeta_local: 0.7514 - val_loss: 0.5241 - val_accuracy: 0.7693 - val_fbeta_local: 0.7950\n",
            "Epoch 6/20\n",
            "1250/1250 [==============================] - 3s 2ms/step - loss: 0.5229 - accuracy: 0.7430 - fbeta_local: 0.7588 - val_loss: 0.5261 - val_accuracy: 0.7561 - val_fbeta_local: 0.6792\n",
            "Epoch 7/20\n",
            "1250/1250 [==============================] - 3s 3ms/step - loss: 0.5172 - accuracy: 0.7441 - fbeta_local: 0.7618 - val_loss: 0.5045 - val_accuracy: 0.7744 - val_fbeta_local: 0.8168\n",
            "Epoch 8/20\n",
            "1250/1250 [==============================] - 3s 2ms/step - loss: 0.5127 - accuracy: 0.7458 - fbeta_local: 0.7675 - val_loss: 0.5146 - val_accuracy: 0.7801 - val_fbeta_local: 0.8131\n",
            "Epoch 9/20\n",
            "1250/1250 [==============================] - 3s 2ms/step - loss: 0.5064 - accuracy: 0.7500 - fbeta_local: 0.7644 - val_loss: 0.5239 - val_accuracy: 0.7730 - val_fbeta_local: 0.7443\n",
            "Epoch 10/20\n",
            "1250/1250 [==============================] - 3s 2ms/step - loss: 0.5024 - accuracy: 0.7574 - fbeta_local: 0.7583 - val_loss: 0.5066 - val_accuracy: 0.7742 - val_fbeta_local: 0.7127\n",
            "Epoch 11/20\n",
            "1250/1250 [==============================] - 3s 2ms/step - loss: 0.4925 - accuracy: 0.7637 - fbeta_local: 0.7590 - val_loss: 0.4913 - val_accuracy: 0.7842 - val_fbeta_local: 0.7491\n",
            "Epoch 12/20\n",
            "1250/1250 [==============================] - 3s 2ms/step - loss: 0.4919 - accuracy: 0.7638 - fbeta_local: 0.7683 - val_loss: 0.4997 - val_accuracy: 0.7855 - val_fbeta_local: 0.8192\n",
            "Epoch 13/20\n",
            "1250/1250 [==============================] - 3s 2ms/step - loss: 0.4894 - accuracy: 0.7646 - fbeta_local: 0.7735 - val_loss: 0.5151 - val_accuracy: 0.7890 - val_fbeta_local: 0.7821\n",
            "Epoch 14/20\n",
            "1250/1250 [==============================] - 3s 2ms/step - loss: 0.4857 - accuracy: 0.7676 - fbeta_local: 0.7708 - val_loss: 0.5167 - val_accuracy: 0.7869 - val_fbeta_local: 0.7650\n",
            "Epoch 15/20\n",
            "1250/1250 [==============================] - 3s 2ms/step - loss: 0.4843 - accuracy: 0.7680 - fbeta_local: 0.7738 - val_loss: 0.5117 - val_accuracy: 0.7920 - val_fbeta_local: 0.8149\n",
            "Epoch 16/20\n",
            "1250/1250 [==============================] - 3s 2ms/step - loss: 0.4792 - accuracy: 0.7704 - fbeta_local: 0.7763 - val_loss: 0.5024 - val_accuracy: 0.7913 - val_fbeta_local: 0.8132\n",
            "Epoch 17/20\n",
            "1250/1250 [==============================] - 3s 2ms/step - loss: 0.4799 - accuracy: 0.7705 - fbeta_local: 0.7776 - val_loss: 0.4936 - val_accuracy: 0.7926 - val_fbeta_local: 0.8132\n",
            "Epoch 18/20\n",
            "1250/1250 [==============================] - 3s 2ms/step - loss: 0.4773 - accuracy: 0.7713 - fbeta_local: 0.7752 - val_loss: 0.5036 - val_accuracy: 0.7924 - val_fbeta_local: 0.7752\n",
            "Epoch 19/20\n",
            "1250/1250 [==============================] - 3s 2ms/step - loss: 0.4765 - accuracy: 0.7725 - fbeta_local: 0.7822 - val_loss: 0.5095 - val_accuracy: 0.7918 - val_fbeta_local: 0.8242\n",
            "Epoch 20/20\n",
            "1250/1250 [==============================] - 3s 2ms/step - loss: 0.4762 - accuracy: 0.7729 - fbeta_local: 0.7799 - val_loss: 0.5117 - val_accuracy: 0.7918 - val_fbeta_local: 0.8048\n",
            "Training complete.\n",
            "Saving top model weights...\n",
            "Saving the top model...\n",
            "Done!\n",
            "CPU times: user 1min 4s, sys: 8.61 s, total: 1min 13s\n",
            "Wall time: 1min 22s\n"
          ]
        }
      ],
      "source": [
        "%%time\n",
        "\n",
        "# Define the directory where you want to save the checkpoint file\n",
        "checkpoint_dir = '/notebooks/lab2/checkpoint/'\n",
        "# Create the directory if it doesn't exist\n",
        "os.makedirs(checkpoint_dir, exist_ok=True)\n",
        "\n",
        "# Define the directory where you want to save the top model weights and model itself\n",
        "top_model_dir = '/notebooks/lab2/models/'\n",
        "# Create the directory if it doesn't exist\n",
        "os.makedirs(top_model_dir, exist_ok=True)\n",
        "\n",
        "# Train model\n",
        "with with_gpu:\n",
        "    # setup params and where to save features\n",
        "    epochs = EPOCCH\n",
        "    batch_size = BATCH_SIZE\n",
        "\n",
        "    initial_learning_rate = 0.001\n",
        "    decay_steps = 1000\n",
        "    decay_rate = 0.95\n",
        "    top_model = get_top_model(saved_train_ds.shape[1], initial_learning_rate, decay_steps, decay_rate)\n",
        "\n",
        "    print('Training top model, saving the checkpoint...')\n",
        "    model_checkpoint_callback = tf.keras.callbacks.ModelCheckpoint(\n",
        "        filepath=os.path.join(checkpoint_dir, 'checkpoint_{epoch:02d}.h5'),\n",
        "        save_weights_only=True,\n",
        "        monitor='val_accuracy',\n",
        "        mode='max',\n",
        "        save_best_only=True)\n",
        "\n",
        "    print('Training transfer model from bottleneck...')\n",
        "    history = top_model.fit(saved_train_ds, saved_train_labels,\n",
        "                            epochs=epochs,\n",
        "                            batch_size=batch_size,\n",
        "                            callbacks=[model_checkpoint_callback],\n",
        "                            validation_data=(saved_test_ds, saved_test_labels),\n",
        "                            verbose=1)\n",
        "\n",
        "    print('Training complete.')\n",
        "\n",
        "     # Save top model weights\n",
        "    print('Saving top model weights...')\n",
        "    top_model_weights_path = os.path.join(top_model_dir, 'top_model_weights.h5')\n",
        "    top_model.save_weights(top_model_weights_path)\n",
        "\n",
        "    # Save the entire top model\n",
        "    print('Saving the top model...')\n",
        "    top_model.save(os.path.join(top_model_dir, 'top_model.h5'))\n",
        "    print('Done!')"
      ]
    },
    {
      "cell_type": "markdown",
      "metadata": {
        "id": "Ew3oZhSid4yW"
      },
      "source": [
        "#### Plot the result"
      ]
    },
    {
      "cell_type": "code",
      "execution_count": 179,
      "metadata": {},
      "outputs": [],
      "source": [
        "def plot_training_validation_acc(history, smooth=False, smooth_factor=0.8):\n",
        "    def smooth_curve(points, factor=0.8):\n",
        "        smoothed_points = []\n",
        "        for point in points:\n",
        "            if smoothed_points:\n",
        "                previous = smoothed_points[-1]\n",
        "                smoothed_points.append(previous * factor + point * (1 - factor))\n",
        "            else:\n",
        "                smoothed_points.append(point)\n",
        "        return smoothed_points\n",
        "\n",
        "    acc = history.history['accuracy']\n",
        "    val_acc = history.history['val_accuracy']\n",
        "    loss = history.history['loss']\n",
        "    val_loss = history.history['val_loss']\n",
        "    fbeta_score = history.history['val_fbeta_local']\n",
        "    val_fbeta_score = history.history['val_fbeta_local']\n",
        "\n",
        "    if smooth:\n",
        "        acc = smooth_curve(acc)\n",
        "        val_acc = smooth_curve(val_acc)\n",
        "        loss = smooth_curve(loss)\n",
        "        val_loss = smooth_curve(val_loss)\n",
        "        fbeta_score = smooth_curve(fbeta_score)\n",
        "        val_fbeta_score = smooth_curve(val_fbeta_score)\n",
        "\n",
        "    epochs = range(len(acc))\n",
        "\n",
        "    plt.plot(epochs, acc, 'bo', label='Training acc')\n",
        "    plt.plot(epochs, val_acc, 'b', label='Validation acc')\n",
        "    plt.plot(epochs, fbeta_score, 'go', label='Training F-beta')\n",
        "    plt.plot(epochs, val_fbeta_score, 'g', label='Validation F-beta')\n",
        "    plt.title('Training and validation accuracy and F-beta score')\n",
        "    plt.legend()\n",
        "\n",
        "    plt.figure()\n",
        "\n",
        "    plt.plot(epochs, loss, 'bo', label='Training loss')\n",
        "    plt.plot(epochs, val_loss, 'b', label='Validation loss')\n",
        "    plt.plot(epochs, val_fbeta_score, 'g', label='Validation F-beta')\n",
        "    plt.title('Training and validation loss')\n",
        "    plt.legend()\n",
        "\n",
        "    plt.show()\n"
      ]
    },
    {
      "cell_type": "code",
      "execution_count": 180,
      "metadata": {
        "id": "4j2KuwqlWiOk"
      },
      "outputs": [
        {
          "data": {
            "image/png": "[encoded data removed]",
            "text/plain": [
              "<Figure size 640x480 with 1 Axes>"
            ]
          },
          "metadata": {},
          "output_type": "display_data"
        },
        {
          "data": {
            "image/png": "[encoded data removed]",
            "text/plain": [
              "<Figure size 640x480 with 1 Axes>"
            ]
          },
          "metadata": {},
          "output_type": "display_data"
        }
      ],
      "source": [
        "plot_training_validation_acc(history)"
      ]
    },
    {
      "cell_type": "markdown",
      "metadata": {
        "id": "Z6v-agxodjCM"
      },
      "source": [
        "#### Fine-Tune the bert\n",
        "- unfreeze 1 layer of bert and try to combine all the models together and train them, comparing it's performance with the old one."
      ]
    },
    {
      "cell_type": "code",
      "execution_count": 181,
      "metadata": {
        "id": "IEWkT0OQgJBN"
      },
      "outputs": [
        {
          "name": "stdout",
          "output_type": "stream",
          "text": [
            "CPU times: user 6 µs, sys: 1 µs, total: 7 µs\n",
            "Wall time: 10 µs\n"
          ]
        }
      ],
      "source": [
        "%%time\n",
        "\n",
        "def unfreeze_last_layer(model):\n",
        "    \"\"\"Unfreezes the last layer of a BERT model (classification head).\"\"\"\n",
        "    for layer in model.layers:\n",
        "        if layer.name == 'bert':\n",
        "            print('Unfreezing the last layer of the BERT model...')\n",
        "            print('Unfreezing last layer of ', len(layer.encoder.layer), ' layers')\n",
        "            layer.trainable = False  # Set the entire BERT model as non-trainable\n",
        "            layer.encoder.layer[-1].trainable = True  # Unfreeze the last layer\n",
        "            layer.encoder.layer[-2].trainable = True  # Unfreeze the second to last layer\n",
        "            print('Unfreezing last layer:', layer.encoder.layer[-1].name)\n",
        "    return model"
      ]
    },
    {
      "cell_type": "code",
      "execution_count": 147,
      "metadata": {},
      "outputs": [
        {
          "name": "stdout",
          "output_type": "stream",
          "text": [
            "Unfreezing the last layer of the BERT model...\n",
            "Unfreezing last layer of  12  layers\n",
            "Unfreezing last layer: layer_._11\n",
            "layer_._0 False\n",
            "layer_._1 False\n",
            "layer_._2 False\n",
            "layer_._3 False\n",
            "layer_._4 False\n",
            "layer_._5 False\n",
            "layer_._6 False\n",
            "layer_._7 False\n",
            "layer_._8 False\n",
            "layer_._9 False\n",
            "layer_._10 False\n",
            "layer_._11 True\n"
          ]
        }
      ],
      "source": [
        "# bert_model.summary()\n",
        "# for layer in bert_model.layers:\n",
        "#     print(layer.encoder.layer[-1].name)\n",
        "\n",
        "\n",
        "\n",
        "with with_gpu:\n",
        "    # Assuming bert_model is already defined and loaded\n",
        "    model = unfreeze_last_layer(bert_model)\n",
        "\n",
        "# Check if the last layer is trainable\n",
        "    for layer in model.layers[0].encoder.layer:\n",
        "        print(layer.name, layer.trainable)  \n",
        "    # model.summary()\n"
      ]
    },
    {
      "cell_type": "code",
      "execution_count": 150,
      "metadata": {},
      "outputs": [
        {
          "name": "stdout",
          "output_type": "stream",
          "text": [
            "Model: \"tf_bert_model\"\n",
            "_________________________________________________________________\n",
            " Layer (type)                Output Shape              Param #   \n",
            "=================================================================\n",
            " bert (TFBertMainLayer)      multiple                  109482240 \n",
            "                                                                 \n",
            "=================================================================\n",
            "Total params: 109,482,240\n",
            "Trainable params: 0\n",
            "Non-trainable params: 109,482,240\n",
            "_________________________________________________________________\n"
          ]
        }
      ],
      "source": [
        "model.summary()"
      ]
    },
    {
      "cell_type": "code",
      "execution_count": 167,
      "metadata": {},
      "outputs": [
        {
          "ename": "AttributeError",
          "evalue": "Layer tf_bert_model_1 is not connected, no input to return.",
          "output_type": "error",
          "traceback": [
            "\u001b[0;31m---------------------------------------------------------------------------\u001b[0m",
            "\u001b[0;31mAttributeError\u001b[0m                            Traceback (most recent call last)",
            "Cell \u001b[0;32mIn [167], line 1\u001b[0m\n\u001b[0;32m----> 1\u001b[0m \u001b[43mbert_model\u001b[49m\u001b[38;5;241;43m.\u001b[39;49m\u001b[43minput\u001b[49m\n",
            "File \u001b[0;32m/usr/local/lib/python3.9/dist-packages/keras/engine/base_layer.py:1890\u001b[0m, in \u001b[0;36mLayer.input\u001b[0;34m(self)\u001b[0m\n\u001b[1;32m   1877\u001b[0m \u001b[38;5;250m\u001b[39m\u001b[38;5;124;03m\"\"\"Retrieves the input tensor(s) of a layer.\u001b[39;00m\n\u001b[1;32m   1878\u001b[0m \n\u001b[1;32m   1879\u001b[0m \u001b[38;5;124;03mOnly applicable if the layer has exactly one input,\u001b[39;00m\n\u001b[0;32m   (...)\u001b[0m\n\u001b[1;32m   1887\u001b[0m \u001b[38;5;124;03m  AttributeError: If no inbound nodes are found.\u001b[39;00m\n\u001b[1;32m   1888\u001b[0m \u001b[38;5;124;03m\"\"\"\u001b[39;00m\n\u001b[1;32m   1889\u001b[0m \u001b[38;5;28;01mif\u001b[39;00m \u001b[38;5;129;01mnot\u001b[39;00m \u001b[38;5;28mself\u001b[39m\u001b[38;5;241m.\u001b[39m_inbound_nodes:\n\u001b[0;32m-> 1890\u001b[0m   \u001b[38;5;28;01mraise\u001b[39;00m \u001b[38;5;167;01mAttributeError\u001b[39;00m(\u001b[38;5;124m'\u001b[39m\u001b[38;5;124mLayer \u001b[39m\u001b[38;5;124m'\u001b[39m \u001b[38;5;241m+\u001b[39m \u001b[38;5;28mself\u001b[39m\u001b[38;5;241m.\u001b[39mname \u001b[38;5;241m+\u001b[39m\n\u001b[1;32m   1891\u001b[0m                        \u001b[38;5;124m'\u001b[39m\u001b[38;5;124m is not connected, no input to return.\u001b[39m\u001b[38;5;124m'\u001b[39m)\n\u001b[1;32m   1892\u001b[0m \u001b[38;5;28;01mreturn\u001b[39;00m \u001b[38;5;28mself\u001b[39m\u001b[38;5;241m.\u001b[39m_get_node_attribute_at_index(\u001b[38;5;241m0\u001b[39m, \u001b[38;5;124m'\u001b[39m\u001b[38;5;124minput_tensors\u001b[39m\u001b[38;5;124m'\u001b[39m, \u001b[38;5;124m'\u001b[39m\u001b[38;5;124minput\u001b[39m\u001b[38;5;124m'\u001b[39m)\n",
            "\u001b[0;31mAttributeError\u001b[0m: Layer tf_bert_model_1 is not connected, no input to return."
          ]
        }
      ],
      "source": [
        "bert_model.input"
      ]
    },
    {
      "cell_type": "code",
      "execution_count": 226,
      "metadata": {
        "id": "seCSd14bdyqi"
      },
      "outputs": [
        {
          "name": "stdout",
          "output_type": "stream",
          "text": [
            "CPU times: user 5 µs, sys: 0 ns, total: 5 µs\n",
            "Wall time: 9.78 µs\n"
          ]
        }
      ],
      "source": [
        "%%time\n",
        "\n",
        "#\n",
        "# Fine tune top bert 1st layer (classifier layer)\n",
        "#\n",
        "def combine_bert_top_model(bert_model, top_model):\n",
        "    \"\"\"Combines a BERT model with a top model.\"\"\"\n",
        "    with with_gpu:\n",
        "        in_id = tf.keras.layers.Input(shape=(MAX_LEN,), name=\"input_ids\", dtype='int32')\n",
        "        in_mask = tf.keras.layers.Input(shape=(MAX_LEN,), name=\"input_masks\",dtype='int32')\n",
        "\n",
        "        base_model = unfreeze_last_layer(bert_model)\n",
        "        \n",
        "        # model = tf.keras.Model(inputs=[in_ids, in_masks], outputs=top_mode((bert_model[in_ids, in_mask])[1]))\n",
        "        model = tf.keras.Model(\n",
        "            inputs=[in_id, in_mask] , \n",
        "            outputs=top_model(base_model({'input_ids':in_id, 'attention_mask':in_mask})[1])\n",
        "        )\n",
        "    \n",
        "        # compile the model with a SGD/momentum optimizer\n",
        "        # and a very slow learning rate.\n",
        "        model.compile(loss='binary_crossentropy',\n",
        "                optimizer=tf.keras.optimizers.SGD(learning_rate=1e-4, momentum=0.9),\n",
        "                metrics=[\n",
        "                    'accuracy',\n",
        "                    tfa.metrics.FBetaScore\n",
        "                    (\n",
        "                        num_classes=1,\n",
        "                        beta=2.0,\n",
        "                    )  \n",
        "            ]\n",
        "        )\n",
        "        return model"
      ]
    },
    {
      "cell_type": "code",
      "execution_count": 227,
      "metadata": {},
      "outputs": [
        {
          "name": "stdout",
          "output_type": "stream",
          "text": [
            "Unfreezing the last layer of the BERT model...\n",
            "Unfreezing last layer of  12  layers\n",
            "Unfreezing last layer: layer_._11\n",
            "Model: \"model_2\"\n",
            "__________________________________________________________________________________________________\n",
            " Layer (type)                   Output Shape         Param #     Connected to                     \n",
            "==================================================================================================\n",
            " input_masks (InputLayer)       [(None, 128)]        0           []                               \n",
            "                                                                                                  \n",
            " input_ids (InputLayer)         [(None, 128)]        0           []                               \n",
            "                                                                                                  \n",
            " tf_bert_model_1 (TFBertModel)  TFBaseModelOutputWi  109482240   ['input_masks[0][0]',            \n",
            "                                thPoolingAndCrossAt               'input_ids[0][0]']              \n",
            "                                tentions(last_hidde                                               \n",
            "                                n_state=(None, 128,                                               \n",
            "                                 768),                                                            \n",
            "                                 pooler_output=(Non                                               \n",
            "                                e, 768),                                                          \n",
            "                                 past_key_values=No                                               \n",
            "                                ne, hidden_states=N                                               \n",
            "                                one, attentions=Non                                               \n",
            "                                e, cross_attentions                                               \n",
            "                                =None)                                                            \n",
            "                                                                                                  \n",
            " imdb_classifier (Sequential)   (None, 1)            467713      ['tf_bert_model_1[2][1]']        \n",
            "                                                                                                  \n",
            "==================================================================================================\n",
            "Total params: 109,949,953\n",
            "Trainable params: 467,713\n",
            "Non-trainable params: 109,482,240\n",
            "__________________________________________________________________________________________________\n"
          ]
        }
      ],
      "source": [
        "with with_gpu:\n",
        "    combined_model = combine_bert_top_model(bert_model, top_model)\n",
        "    combined_model.summary()"
      ]
    },
    {
      "cell_type": "code",
      "execution_count": 192,
      "metadata": {},
      "outputs": [],
      "source": [
        "def generate_tokens(text, tokenizer, max_len):\n",
        "    \"\"\"Generates tokens from a given text.\"\"\"\n",
        "    inputs = tokenizer(\n",
        "        text,\n",
        "        add_special_tokens=True,\n",
        "        max_length=max_len,\n",
        "        truncation=True,\n",
        "        padding=True,\n",
        "        return_tensors='tf',\n",
        "        return_token_type_ids=False,\n",
        "        return_attention_mask=True,\n",
        "        verbose=True\n",
        "    )\n",
        "    return {\n",
        "        'input_ids': inputs['input_ids'],\n",
        "        'attention_mask': inputs['attention_mask']\n",
        "    }"
      ]
    },
    {
      "cell_type": "code",
      "execution_count": 228,
      "metadata": {},
      "outputs": [],
      "source": [
        "with with_gpu:\n",
        "    train_tokens = generate_tokens(train.review.tolist(), tokenizer, MAX_LEN)\n"
      ]
    },
    {
      "cell_type": "code",
      "execution_count": 229,
      "metadata": {},
      "outputs": [],
      "source": [
        "with with_gpu:\n",
        "    test_tokens = generate_tokens(test.review.tolist(), tokenizer, MAX_LEN)"
      ]
    },
    {
      "cell_type": "code",
      "execution_count": 230,
      "metadata": {
        "id": "nSzwWUlTgzRO"
      },
      "outputs": [],
      "source": [
        "def train_combined_model(model, train_ds, test_ds, epochs=2):\n",
        "    checkpoint_filepath = '/notebooks/lab2/checkpoints/'\n",
        "    with with_gpu:\n",
        "        model_checkpoint_callback = tf.keras.callbacks.ModelCheckpoint(\n",
        "        filepath=checkpoint_filepath,\n",
        "        save_weights_only=True,\n",
        "        monitor='val_accuracy',\n",
        "        mode='max',\n",
        "        save_best_only=True)\n",
        "\n",
        "        print('Fine tuning combined model...')\n",
        "        history = model.fit(\n",
        "            x={'input_ids': train_ds['input_ids'],'input_masks':train_ds['attention_mask']},\n",
        "            y = train['sentiment'], \n",
        "            epochs=epochs,\n",
        "            batch_size=BATCH_SIZE,\n",
        "            callbacks=[model_checkpoint_callback],\n",
        "            validation_data = (\n",
        "                {'input_ids':test_ds['input_ids'], 'input_masks':test_ds['attention_mask']},\n",
        "                test['sentiment']\n",
        "            ),\n",
        "            verbose=True\n",
        "        )\n",
        "        return history"
      ]
    },
    {
      "cell_type": "markdown",
      "metadata": {},
      "source": [
        "#### Train the combined model"
      ]
    },
    {
      "cell_type": "code",
      "execution_count": 231,
      "metadata": {},
      "outputs": [
        {
          "name": "stdout",
          "output_type": "stream",
          "text": [
            "Fine tuning combined model...\n",
            "Epoch 1/4\n",
            "1250/1250 [==============================] - 101s 77ms/step - loss: 0.4967 - accuracy: 0.7599 - fbeta_score: 0.8332 - val_loss: 0.5080 - val_accuracy: 0.7924 - val_fbeta_score: 0.8337\n",
            "Epoch 2/4\n",
            "1250/1250 [==============================] - 94s 75ms/step - loss: 0.4965 - accuracy: 0.7577 - fbeta_score: 0.8332 - val_loss: 0.5055 - val_accuracy: 0.7899 - val_fbeta_score: 0.8337\n",
            "Epoch 3/4\n",
            "1250/1250 [==============================] - 94s 75ms/step - loss: 0.4953 - accuracy: 0.7606 - fbeta_score: 0.8332 - val_loss: 0.5078 - val_accuracy: 0.7901 - val_fbeta_score: 0.8337\n",
            "Epoch 4/4\n",
            "1250/1250 [==============================] - 95s 76ms/step - loss: 0.4984 - accuracy: 0.7584 - fbeta_score: 0.8332 - val_loss: 0.5081 - val_accuracy: 0.7928 - val_fbeta_score: 0.8337\n"
          ]
        }
      ],
      "source": [
        "%%time\n",
        "\n",
        "with with_gpu:\n",
        "    history = train_combined_model(combined_model, train_tokens, test_tokens, 4)"
      ]
    },
    {
      "cell_type": "markdown",
      "metadata": {
        "id": "Zh-6Qz3mhRFM"
      },
      "source": [
        "#### Plot the result of the fine tuned model."
      ]
    },
    {
      "cell_type": "code",
      "execution_count": null,
      "metadata": {},
      "outputs": [],
      "source": [
        "def plot_combined_model(history, smooth=False, smooth_factor=0.8):\n",
        "    def smooth_curve(points, factor=0.8):\n",
        "        smoothed_points = []\n",
        "        for point in points:\n",
        "            if smoothed_points:\n",
        "                previous = smoothed_points[-1]\n",
        "                smoothed_points.append(previous * factor + point * (1 - factor))\n",
        "            else:\n",
        "                smoothed_points.append(point)\n",
        "        return smoothed_points\n",
        "\n",
        "    acc = history.history['accuracy']\n",
        "    val_acc = history.history['val_accuracy']\n",
        "    loss = history.history['loss']\n",
        "    val_loss = history.history['val_loss']\n",
        "    fbeta_score = history.history['fbeta_score']\n",
        "    val_fbeta_score = history.history['val_fbeta_score']\n",
        "\n",
        "    if smooth:\n",
        "        acc = smooth_curve(acc)\n",
        "        val_acc = smooth_curve(val_acc)\n",
        "        loss = smooth_curve(loss)\n",
        "        val_loss = smooth_curve(val_loss)\n",
        "        fbeta_score = smooth_curve(fbeta_score)\n",
        "        val_fbeta_score = smooth_curve(val_fbeta_score)\n",
        "\n",
        "    epochs = range(len(acc))\n",
        "\n",
        "    plt.plot(epochs, acc, 'bo', label='Training acc')\n",
        "    plt.plot(epochs, val_acc, 'b', label='Validation acc')\n",
        "    plt.plot(epochs, fbeta_score, 'go', label='Training F-beta')\n",
        "    plt.plot(epochs, val_fbeta_score, 'g', label='Validation F-beta')\n",
        "    plt.title('Training and validation accuracy and F-beta score')\n",
        "    plt.legend()\n",
        "\n",
        "    plt.figure()\n",
        "\n",
        "    plt.plot(epochs, loss, 'bo', label='Training loss')\n",
        "    plt.plot(epochs, val_loss, 'b', label='Validation loss')\n",
        "    plt.plot(epochs, val_fbeta_score, 'g', label='Validation F-beta')\n",
        "    plt.title('Training and validation loss')\n",
        "    plt.legend()\n",
        "\n",
        "    plt.show()\n"
      ]
    },
    {
      "cell_type": "code",
      "execution_count": 232,
      "metadata": {
        "id": "twfGXvv2hbG0"
      },
      "outputs": [
        {
          "ename": "KeyError",
          "evalue": "'val_fbeta_local'",
          "output_type": "error",
          "traceback": [
            "\u001b[0;31m---------------------------------------------------------------------------\u001b[0m",
            "\u001b[0;31mKeyError\u001b[0m                                  Traceback (most recent call last)",
            "Cell \u001b[0;32mIn [232], line 1\u001b[0m\n\u001b[0;32m----> 1\u001b[0m \u001b[43mplot_training_validation_acc\u001b[49m\u001b[43m(\u001b[49m\u001b[43mhistory\u001b[49m\u001b[43m,\u001b[49m\u001b[43m \u001b[49m\u001b[43msmooth\u001b[49m\u001b[38;5;241;43m=\u001b[39;49m\u001b[38;5;28;43;01mTrue\u001b[39;49;00m\u001b[43m)\u001b[49m\n",
            "Cell \u001b[0;32mIn [179], line 16\u001b[0m, in \u001b[0;36mplot_training_validation_acc\u001b[0;34m(history, smooth, smooth_factor)\u001b[0m\n\u001b[1;32m     14\u001b[0m loss \u001b[38;5;241m=\u001b[39m history\u001b[38;5;241m.\u001b[39mhistory[\u001b[38;5;124m'\u001b[39m\u001b[38;5;124mloss\u001b[39m\u001b[38;5;124m'\u001b[39m]\n\u001b[1;32m     15\u001b[0m val_loss \u001b[38;5;241m=\u001b[39m history\u001b[38;5;241m.\u001b[39mhistory[\u001b[38;5;124m'\u001b[39m\u001b[38;5;124mval_loss\u001b[39m\u001b[38;5;124m'\u001b[39m]\n\u001b[0;32m---> 16\u001b[0m fbeta_score \u001b[38;5;241m=\u001b[39m \u001b[43mhistory\u001b[49m\u001b[38;5;241;43m.\u001b[39;49m\u001b[43mhistory\u001b[49m\u001b[43m[\u001b[49m\u001b[38;5;124;43m'\u001b[39;49m\u001b[38;5;124;43mval_fbeta_local\u001b[39;49m\u001b[38;5;124;43m'\u001b[39;49m\u001b[43m]\u001b[49m\n\u001b[1;32m     17\u001b[0m val_fbeta_score \u001b[38;5;241m=\u001b[39m history\u001b[38;5;241m.\u001b[39mhistory[\u001b[38;5;124m'\u001b[39m\u001b[38;5;124mval_fbeta_local\u001b[39m\u001b[38;5;124m'\u001b[39m]\n\u001b[1;32m     19\u001b[0m \u001b[38;5;28;01mif\u001b[39;00m smooth:\n",
            "\u001b[0;31mKeyError\u001b[0m: 'val_fbeta_local'"
          ]
        }
      ],
      "source": [
        "plot_training_validation_acc(history, smooth=True)"
      ]
    }
  ],
  "metadata": {
    "accelerator": "TPU",
    "colab": {
      "machine_shape": "hm",
      "provenance": []
    },
    "kernelspec": {
      "display_name": "Python 3 (ipykernel)",
      "language": "python",
      "name": "python3"
    },
    "language_info": {
      "codemirror_mode": {
        "name": "ipython",
        "version": 3
      },
      "file_extension": ".py",
      "mimetype": "text/x-python",
      "name": "python",
      "nbconvert_exporter": "python",
      "pygments_lexer": "ipython3",
      "version": "3.9.16"
    }
  },
  "nbformat": 4,
  "nbformat_minor": 0
}
