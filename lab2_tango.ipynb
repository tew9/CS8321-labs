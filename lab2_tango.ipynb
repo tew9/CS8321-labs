{
  "nbformat": 4,
  "nbformat_minor": 0,
  "metadata": {
    "colab": {
      "provenance": [],
      "machine_shape": "hm"
    },
    "kernelspec": {
      "name": "python3",
      "display_name": "Python 3"
    },
    "language_info": {
      "name": "python"
    },
    "accelerator": "TPU"
  },
  "cells": [
    {
      "cell_type": "markdown",
      "source": [],
      "metadata": {
        "id": "UQdEH6XL-Hx7"
      }
    },
    {
      "cell_type": "code",
      "source": [
        "!pip install tensorflow\n",
        "!pip install tensorflow"
      ],
      "metadata": {
        "id": "QqN5v_TkXS4J"
      },
      "execution_count": null,
      "outputs": []
    },
    {
      "cell_type": "code",
      "source": [
        "!pip install tensorflow"
      ],
      "metadata": {
        "id": "cl3u8cK--IPx"
      },
      "execution_count": null,
      "outputs": []
    },
    {
      "cell_type": "code",
      "source": [
        "import pandas as pd\n",
        "import sys\n",
        "import tensorflow.keras\n",
        "import scipy as sp\n",
        "import tensorflow as tf\n",
        "import platform\n",
        "import numpy as np\n",
        "import tensorflow as tf\n",
        "from tensorflow.keras import layers\n",
        "from sklearn.model_selection import train_test_split\n",
        "import matplotlib.pyplot as plt\n",
        "from transformers import BertTokenizer\n",
        "from transformers import TFBertModel # This will load the hugging face bert transformer and set it's parameters to tensorflow\n",
        "# import tensorflow_hub as hub # to load the bert directly from tensorflow hub, already compatible with tensorflow environment.\n",
        "import re\n",
        "import os"
      ],
      "metadata": {
        "id": "Fke7jB7i76Bz"
      },
      "execution_count": 138,
      "outputs": []
    },
    {
      "cell_type": "markdown",
      "source": [
        "## Load Datasets"
      ],
      "metadata": {
        "id": "OYUGNd-Z7fLb"
      }
    },
    {
      "cell_type": "code",
      "execution_count": 4,
      "metadata": {
        "colab": {
          "base_uri": "https://localhost:8080/"
        },
        "id": "Zr9w_FGU7K6Q",
        "outputId": "fb0a514a-1211-4de8-b942-cf9049b3b381"
      },
      "outputs": [
        {
          "output_type": "stream",
          "name": "stdout",
          "text": [
            "Mounted at /content/drive\n"
          ]
        }
      ],
      "source": [
        "from google.colab import drive\n",
        "drive.mount('/content/drive')"
      ]
    },
    {
      "cell_type": "code",
      "source": [
        "import os\n",
        "os.chdir('/content/drive/My Drive/ML_Advance/lab2_transfer_learning/data/')\n",
        "\n",
        "df = pd.read_csv('imdb.csv')"
      ],
      "metadata": {
        "id": "h_5xRr2Z7lnV"
      },
      "execution_count": 115,
      "outputs": []
    },
    {
      "cell_type": "code",
      "source": [
        "print(df.groupby('sentiment').count())\n",
        "print(df.head())"
      ],
      "metadata": {
        "colab": {
          "base_uri": "https://localhost:8080/"
        },
        "id": "20tI644H79NR",
        "outputId": "2c1ea215-84b9-43ee-af08-99d186a3b3a4"
      },
      "execution_count": 116,
      "outputs": [
        {
          "output_type": "stream",
          "name": "stdout",
          "text": [
            "           review\n",
            "sentiment        \n",
            "negative    25000\n",
            "positive    25000\n",
            "                                              review sentiment\n",
            "0  One of the other reviewers has mentioned that ...  positive\n",
            "1  A wonderful little production. <br /><br />The...  positive\n",
            "2  I thought this was a wonderful way to spend ti...  positive\n",
            "3  Basically there's a family where a little boy ...  negative\n",
            "4  Petter Mattei's \"Love in the Time of Money\" is...  positive\n"
          ]
        }
      ]
    },
    {
      "cell_type": "code",
      "source": [
        "tf.config.list_logical_devices('TPU')"
      ],
      "metadata": {
        "colab": {
          "base_uri": "https://localhost:8080/"
        },
        "id": "vnlQsG97pYMI",
        "outputId": "23614d19-9e6d-4a63-80e0-4739568ab232"
      },
      "execution_count": 117,
      "outputs": [
        {
          "output_type": "execute_result",
          "data": {
            "text/plain": [
              "[LogicalDevice(name='/job:worker/replica:0/task:0/device:TPU:0', device_type='TPU'),\n",
              " LogicalDevice(name='/job:worker/replica:0/task:0/device:TPU:1', device_type='TPU'),\n",
              " LogicalDevice(name='/job:worker/replica:0/task:0/device:TPU:2', device_type='TPU'),\n",
              " LogicalDevice(name='/job:worker/replica:0/task:0/device:TPU:3', device_type='TPU'),\n",
              " LogicalDevice(name='/job:worker/replica:0/task:0/device:TPU:4', device_type='TPU'),\n",
              " LogicalDevice(name='/job:worker/replica:0/task:0/device:TPU:5', device_type='TPU'),\n",
              " LogicalDevice(name='/job:worker/replica:0/task:0/device:TPU:6', device_type='TPU'),\n",
              " LogicalDevice(name='/job:worker/replica:0/task:0/device:TPU:7', device_type='TPU')]"
            ]
          },
          "metadata": {},
          "execution_count": 117
        }
      ]
    },
    {
      "cell_type": "code",
      "source": [
        "resolver = tf.distribute.cluster_resolver.TPUClusterResolver(tpu='grpc://' + os.environ['COLAB_TPU_ADDR'])\n",
        "tf.config.experimental_connect_to_cluster(resolver)\n",
        "tf.tpu.experimental.initialize_tpu_system(resolver)\n",
        "\n",
        "strategy = tf.distribute.experimental.TPUStrategy(resolver)"
      ],
      "metadata": {
        "colab": {
          "base_uri": "https://localhost:8080/"
        },
        "id": "KdWwuNJRTSGP",
        "outputId": "5b66d924-28c8-4b47-c9e8-9d8b624b8c6c"
      },
      "execution_count": 118,
      "outputs": [
        {
          "output_type": "stream",
          "name": "stderr",
          "text": [
            "WARNING:tensorflow:TPU system grpc://10.38.42.18:8470 has already been initialized. Reinitializing the TPU can cause previously created variables on TPU to be lost.\n",
            "WARNING:absl:`tf.distribute.experimental.TPUStrategy` is deprecated, please use  the non experimental symbol `tf.distribute.TPUStrategy` instead.\n"
          ]
        }
      ]
    },
    {
      "cell_type": "code",
      "source": [
        "print(\"Num TPUs Available: \", len(tf.config.list_logical_devices('TPU')))"
      ],
      "metadata": {
        "colab": {
          "base_uri": "https://localhost:8080/"
        },
        "id": "efptT5G9YY3g",
        "outputId": "8e28a336-33e3-42d2-d9af-b9705f697aaa"
      },
      "execution_count": 119,
      "outputs": [
        {
          "output_type": "stream",
          "name": "stdout",
          "text": [
            "Num TPUs Available:  8\n"
          ]
        }
      ]
    },
    {
      "cell_type": "markdown",
      "source": [
        "### Preprocess the dataset"
      ],
      "metadata": {
        "id": "t9tfMFC58g1m"
      }
    },
    {
      "cell_type": "markdown",
      "source": [
        "### Remove Unwanted characters, and try to use only the first 20000 rows of the data to speed up our fine-tunning.\n",
        "- remove punctuation marks\n",
        "- remove characters which are not letters or digits\n",
        "- remove successive whitespaces\n",
        "- convert the text to lower case\n",
        "- strip whitespaces from the beginning and the end of the reviews"
      ],
      "metadata": {
        "id": "g_UtoZg-96MC"
      }
    },
    {
      "cell_type": "code",
      "source": [
        "df = df.head(20000)\n",
        "df.sentiment = [0 if s == 'negative' else 1 for s in df.sentiment]\n",
        "def process(x):\n",
        "    x = re.sub('[,\\.!?:()\"]', '', x)\n",
        "    x = re.sub('<.*?>', ' ', x)\n",
        "    x = re.sub('http\\S+', ' ', x)\n",
        "    x = re.sub('[^a-zA-Z0-9]', ' ', x)\n",
        "    x = re.sub('\\s+', ' ', x)\n",
        "    return x.lower().strip()\n",
        "\n",
        "df['review'] = df['review'].apply(lambda x: process(x))"
      ],
      "metadata": {
        "colab": {
          "base_uri": "https://localhost:8080/"
        },
        "id": "6CDXJPtF8kGF",
        "outputId": "e760f92b-1ef7-4852-f137-08ea716d10f4"
      },
      "execution_count": 120,
      "outputs": [
        {
          "output_type": "stream",
          "name": "stderr",
          "text": [
            "<ipython-input-120-6c7883b5864b>:2: SettingWithCopyWarning: \n",
            "A value is trying to be set on a copy of a slice from a DataFrame.\n",
            "Try using .loc[row_indexer,col_indexer] = value instead\n",
            "\n",
            "See the caveats in the documentation: https://pandas.pydata.org/pandas-docs/stable/user_guide/indexing.html#returning-a-view-versus-a-copy\n",
            "  df.sentiment = [0 if s == 'negative' else 1 for s in df.sentiment]\n"
          ]
        }
      ]
    },
    {
      "cell_type": "markdown",
      "source": [
        "#### Plot the data distribution over the labels\n",
        "- Determine how balance the dataset is."
      ],
      "metadata": {
        "id": "2NFF7Hsa-RhR"
      }
    },
    {
      "cell_type": "code",
      "source": [
        "print(df.sentiment.head())\n",
        "print(df.shape)\n"
      ],
      "metadata": {
        "colab": {
          "base_uri": "https://localhost:8080/"
        },
        "id": "WGouvl3N-3-7",
        "outputId": "1fc76c60-e508-47a1-fae5-85f0ea2db28f"
      },
      "execution_count": 121,
      "outputs": [
        {
          "output_type": "stream",
          "name": "stdout",
          "text": [
            "0    1\n",
            "1    1\n",
            "2    1\n",
            "3    0\n",
            "4    1\n",
            "Name: sentiment, dtype: int64\n",
            "(20000, 2)\n"
          ]
        }
      ]
    },
    {
      "cell_type": "code",
      "source": [
        "# Calculate the number of sentences for each sentiment category\n",
        "positive_counts = len(df[df.sentiment == 1])\n",
        "negative_counts = len(df[df.sentiment == 0])\n",
        "\n",
        "# Plotting\n",
        "plt.figure(figsize=(8, 6))\n",
        "plt.bar(['Positive', 'Negative'], [positive_counts, negative_counts], color=['green', 'red'])\n",
        "plt.title('Distribution of Sentence Counts by Sentiment')\n",
        "plt.xlabel('Sentiment')\n",
        "plt.ylabel('Sentence Counts')\n",
        "plt.show()"
      ],
      "metadata": {
        "colab": {
          "base_uri": "https://localhost:8080/",
          "height": 564
        },
        "id": "lnPzQ8P6-fUR",
        "outputId": "d01b0f4e-319d-4b89-9cdf-b8ea56f71d4c"
      },
      "execution_count": 122,
      "outputs": [
        {
          "output_type": "display_data",
          "data": {
            "text/plain": [
              "<Figure size 800x600 with 1 Axes>"
            ],
            "image/png": "[encoded data removed]"
          },
          "metadata": {}
        }
      ]
    },
    {
      "cell_type": "markdown",
      "source": [
        "#### Prepare data for Bert, padding them (masking them appropriately)\n",
        "Let’s first see how the BERT tokenizer converts sentences into token ids. token ids : it is an integer that represents a particular token.\n",
        "\n",
        "**attention mask** : it is a sequence of ones and zeroes to tell the model which token comes from input sentence (segment id =1) and which are just padding token(segment id =0).\n",
        "\n",
        "**padding** : when we train BERT model we make sure that every input to the model should have same size that means same length of inputs so that the model can perform back propagation efficiently but all our input which are review text can not be in same size, some can be small review and some can be large. Padding is the technique where we make our entire review in the same size but first we have to decide a fixed length or max_length."
      ],
      "metadata": {
        "id": "4pOfcI_xANhj"
      }
    },
    {
      "cell_type": "markdown",
      "source": [
        "##### Split our dataset into 80/20\n",
        "- Since these dataset is balanced and have enough dataset for splitting, it make sense that we can use 80/20"
      ],
      "metadata": {
        "id": "JDWv8Kr1AyCq"
      }
    },
    {
      "cell_type": "code",
      "source": [
        "train, test = train_test_split(df, test_size=0.2)\n",
        "\n",
        "train_sentences = train.review\n",
        "train_labels = train.sentiment\n",
        "test_sentences = test.review\n",
        "test_labels = test.sentiment\n",
        "\n",
        "\n",
        "print(train_sentences.shape, test_sentences.shape)\n",
        "print(train_labels.shape, test_labels.shape)"
      ],
      "metadata": {
        "colab": {
          "base_uri": "https://localhost:8080/"
        },
        "id": "T6aXOFBSAcjX",
        "outputId": "9c33a615-acdd-492d-e6d0-4d5b89a5eb20"
      },
      "execution_count": 123,
      "outputs": [
        {
          "output_type": "stream",
          "name": "stdout",
          "text": [
            "(16000,) (4000,)\n",
            "(16000,) (4000,)\n"
          ]
        }
      ]
    },
    {
      "cell_type": "markdown",
      "source": [
        "#### Masking and Padding dataset\n",
        "Hugging face library provides another function called tokenizer.encode_plus() which we will use to perform almost entire preprocessing steps in one go. It\n",
        "\n",
        "converts reviews into tokens\n",
        "adds [CLS] token at the beginning of input\n",
        "performs padding if sequence length is less than max_len\n",
        "performs truncation if sequence length is greater than max_len\n",
        "adds [SEP] token at the end of sequence."
      ],
      "metadata": {
        "id": "lOi-BxTGD83s"
      }
    },
    {
      "cell_type": "code",
      "source": [
        "with strategy.scope():\n",
        "    # Load the BERT tokenizer\n",
        "    print('Loading BERT tokenizer...')\n",
        "    tokenizer = BertTokenizer.from_pretrained('bert-base-uncased', do_lower_case=True)"
      ],
      "metadata": {
        "colab": {
          "base_uri": "https://localhost:8080/"
        },
        "id": "yCrQuaAlEEO7",
        "outputId": "a1450b30-861e-4b39-cdc3-b63f1dbba26a"
      },
      "execution_count": 124,
      "outputs": [
        {
          "output_type": "stream",
          "name": "stdout",
          "text": [
            "Loading BERT tokenizer...\n"
          ]
        }
      ]
    },
    {
      "cell_type": "code",
      "source": [
        "MAX_LEN = 512\n",
        "EPOCCH = 30\n",
        "BATCH_SIZE = 32"
      ],
      "metadata": {
        "id": "PhBwgVCoW1jC"
      },
      "execution_count": null,
      "outputs": []
    },
    {
      "cell_type": "code",
      "source": [
        "# Tokenize all of the sentences and map the tokens to thier word IDs.\n",
        "# def generate_data(data,labels):\n",
        "#   input_ids = []\n",
        "#   attention_masks = []\n",
        "\n",
        "#   for sent in data:\n",
        "#       # `encode_plus` will:\n",
        "#       #   (1) Tokenize the sentence.\n",
        "#       #   (2) Prepend the `[CLS]` token to the start.\n",
        "#       #   (3) Append the `[SEP]` token to the end.\n",
        "#       #   (4) Map tokens to their IDs.\n",
        "#       #   (5) Pad or truncate the sentence to `max_length`\n",
        "#       #   (6) Create attention masks for [PAD] tokens.\n",
        "#       encoded_dict = tokenizer.encode_plus(\n",
        "#                           sent,                      # Sentence to encode.\n",
        "#                           add_special_tokens = True, # Add '[CLS]' and '[SEP]'\n",
        "#                           max_length = 64,           # Pad & truncate all sentences.\n",
        "#                           pad_to_max_length = True,\n",
        "#                           return_attention_mask = True,   # Construct attn. masks.\n",
        "#                           truncation = True,\n",
        "#                           return_tensors = 'tf',     # Return pytorch tensors.\n",
        "#                     )\n",
        "\n",
        "#       # Add the encoded sentence to the list.\n",
        "#       input_ids.append(encoded_dict['input_ids'])\n",
        "\n",
        "#       # And its attention mask (simply differentiates padding from non-padding).\n",
        "#       attention_masks.append(encoded_dict['attention_mask'])\n",
        "\n",
        "#   # Convert the lists into tf.\n",
        "#   # this can be a duplicate since we're already returning tensorflow tensors.\n",
        "#   # input_ids = tf.convert_to_tensor(input_ids)\n",
        "#   # attention_masks = tf.convert_to_tensor(attention_masks)\n",
        "#   labels = tf.convert_to_tensor(labels)\n",
        "\n",
        "#   return input_ids, attention_masks, labels"
      ],
      "metadata": {
        "id": "eUPp-qhzEG8W"
      },
      "execution_count": 105,
      "outputs": []
    },
    {
      "cell_type": "code",
      "source": [
        "def generate_data(data, labels):\n",
        "    \"\"\"Generates tf.data.Dataset from input data.\"\"\"\n",
        "    print(\"tokenizing...\")\n",
        "    X_train = tokenizer(\n",
        "          text=data.tolist(),\n",
        "          add_special_tokens=True,\n",
        "          max_length=MAX_LEN,\n",
        "          pad_to_max_length=True\n",
        "          truncation=True,\n",
        "          padding=True,\n",
        "          return_tensors='tf',\n",
        "          return_token_type_ids=False,\n",
        "          return_attention_mask=True,\n",
        "          verbose=True\n",
        "      )\n",
        "\n",
        "    labels = tf.convert_to_tensor(labels)\n",
        "\n",
        "    return X_train, labels"
      ],
      "metadata": {
        "id": "yIEcSZAAD_RF"
      },
      "execution_count": 125,
      "outputs": []
    },
    {
      "cell_type": "code",
      "source": [
        "%%time\n",
        "\n",
        "with strategy.scope():\n",
        "  tf.debugging.set_log_device_placement(True)\n",
        "\n",
        "  train_ds, train_labels = generate_data(train_sentences, train_labels)\n",
        "  test_ds, test_labels = generate_data(test_sentences, test_labels)\n",
        "\n",
        "  print(train_ds)\n",
        "  print(train_labels)\n",
        "  print(test_ds)\n",
        "  print(test_labels)\n",
        ""
      ],
      "metadata": {
        "colab": {
          "base_uri": "https://localhost:8080/"
        },
        "id": "2baYmnOmGozl",
        "outputId": "a000f479-6beb-4664-f8e1-118e5d865d45"
      },
      "execution_count": 126,
      "outputs": [
        {
          "output_type": "stream",
          "name": "stdout",
          "text": [
            "tokenizing...\n",
            "tokenizing...\n",
            "{'input_ids': <tf.Tensor: shape=(16000, 70), dtype=int32, numpy=\n",
            "array([[  101,  1045,  3685, ...,  2052,  3891,   102],\n",
            "       [  101,  1045,  2018, ..., 12689, 13764,   102],\n",
            "       [  101,  3348,  2080, ..., 22917,  2839,   102],\n",
            "       ...,\n",
            "       [  101,  1996,  2060, ...,  7935,  2003,   102],\n",
            "       [  101,  1045,  5993, ...,  1997,  2184,   102],\n",
            "       [  101,  5261,  4670, ...,  2023,  9200,   102]], dtype=int32)>, 'attention_mask': <tf.Tensor: shape=(16000, 70), dtype=int32, numpy=\n",
            "array([[1, 1, 1, ..., 1, 1, 1],\n",
            "       [1, 1, 1, ..., 1, 1, 1],\n",
            "       [1, 1, 1, ..., 1, 1, 1],\n",
            "       ...,\n",
            "       [1, 1, 1, ..., 1, 1, 1],\n",
            "       [1, 1, 1, ..., 1, 1, 1],\n",
            "       [1, 1, 1, ..., 1, 1, 1]], dtype=int32)>}\n",
            "tf.Tensor([0 0 0 ... 0 0 0], shape=(16000,), dtype=int64)\n",
            "{'input_ids': <tf.Tensor: shape=(4000, 70), dtype=int32, numpy=\n",
            "array([[  101,  2066,  2116, ...,  4458,  1998,   102],\n",
            "       [  101,  2023,  3185, ...,  1055,  9951,   102],\n",
            "       [  101,  1037,  3143, ...,  3787,  2008,   102],\n",
            "       ...,\n",
            "       [  101, 10468,  1045, ...,  2718,  3937,   102],\n",
            "       [  101,  1037,  2200, ...,  2080,  1998,   102],\n",
            "       [  101,  7929,  2023, ...,     0,     0,     0]], dtype=int32)>, 'attention_mask': <tf.Tensor: shape=(4000, 70), dtype=int32, numpy=\n",
            "array([[1, 1, 1, ..., 1, 1, 1],\n",
            "       [1, 1, 1, ..., 1, 1, 1],\n",
            "       [1, 1, 1, ..., 1, 1, 1],\n",
            "       ...,\n",
            "       [1, 1, 1, ..., 1, 1, 1],\n",
            "       [1, 1, 1, ..., 1, 1, 1],\n",
            "       [1, 1, 1, ..., 0, 0, 0]], dtype=int32)>}\n",
            "tf.Tensor([1 0 0 ... 1 1 0], shape=(4000,), dtype=int64)\n",
            "CPU times: user 1min 39s, sys: 0 ns, total: 1min 39s\n",
            "Wall time: 1min 38s\n"
          ]
        }
      ]
    },
    {
      "cell_type": "markdown",
      "source": [
        "### Load the Model and set it up for Feature space transfers"
      ],
      "metadata": {
        "id": "myWQnRapC11C"
      }
    },
    {
      "cell_type": "code",
      "source": [
        "# load the bert directly from the hugging face and it'll be initialize to tensorflow for compatibility\n",
        "with strategy.scope():\n",
        "  bert_model = TFBertModel.from_pretrained('bert-base-uncased', trainable=False)\n"
      ],
      "metadata": {
        "colab": {
          "base_uri": "https://localhost:8080/"
        },
        "id": "H2XlbfTtJMCl",
        "outputId": "9bd30fae-ecbf-480f-d39c-bc0451bae2d5"
      },
      "execution_count": 127,
      "outputs": [
        {
          "output_type": "stream",
          "name": "stderr",
          "text": [
            "Some weights of the PyTorch model were not used when initializing the TF 2.0 model TFBertModel: ['cls.predictions.transform.dense.bias', 'cls.predictions.bias', 'cls.seq_relationship.bias', 'cls.seq_relationship.weight', 'cls.predictions.transform.dense.weight', 'cls.predictions.transform.LayerNorm.bias', 'cls.predictions.transform.LayerNorm.weight']\n",
            "- This IS expected if you are initializing TFBertModel from a PyTorch model trained on another task or with another architecture (e.g. initializing a TFBertForSequenceClassification model from a BertForPreTraining model).\n",
            "- This IS NOT expected if you are initializing TFBertModel from a PyTorch model that you expect to be exactly identical (e.g. initializing a TFBertForSequenceClassification model from a BertForSequenceClassification model).\n",
            "All the weights of TFBertModel were initialized from the PyTorch model.\n",
            "If your task is similar to the task the model of the checkpoint was trained on, you can already use TFBertModel for predictions without further training.\n"
          ]
        }
      ]
    },
    {
      "cell_type": "code",
      "source": [
        "%%time\n",
        "\n",
        "def save_bottleneck_features(ds, labels, filename_addendum):\n",
        "    \"\"\"Saves bottleneck features extracted from a frozen BERT model.\"\"\"\n",
        "    bottleneck_features = []\n",
        "    labels_train = []\n",
        "    i = 1\n",
        "    with strategy.scope():\n",
        "      print(f'Extracting bottleneck features for {filename_addendum}')\n",
        "      bottleneck_features.extend(bert_model(ds)['pooler_output'].numpy())\n",
        "\n",
        "      print(f'Extending labels into numpy feature space for {filename_addendum}')\n",
        "      # Get the labels as well\n",
        "      labels_train.extend(labels)\n",
        "\n",
        "      bottleneck_features = np.array(bottleneck_features)\n",
        "      labels_train = np.array(labels_train)\n",
        "\n",
        "      print(f'Saving bottleneck features for {filename_addendum}')\n",
        "      np.save(f'./bottleneck_features_{filename_addendum}.npy', bottleneck_features)\n",
        "      np.save(f'./bottleneck_labels_{filename_addendum}.npy', labels_train)"
      ],
      "metadata": {
        "colab": {
          "base_uri": "https://localhost:8080/"
        },
        "id": "AW6ev3abJZOc",
        "outputId": "43c520df-a3a7-4830-e467-7bdd129dfb2c"
      },
      "execution_count": 128,
      "outputs": [
        {
          "output_type": "stream",
          "name": "stdout",
          "text": [
            "CPU times: user 18 µs, sys: 4 µs, total: 22 µs\n",
            "Wall time: 42.7 µs\n"
          ]
        }
      ]
    },
    {
      "cell_type": "code",
      "source": [
        "# Wrap the feature extraction function within the TPU strategy scope\n",
        "with strategy.scope():\n",
        "    # Save training features\n",
        "    print('Saving bottleneck features (train)...')\n",
        "    save_bottleneck_features(train_ds, train_labels, 'train')\n",
        "\n",
        "    # Save validation features\n",
        "    print('Saving bottleneck features (test)...')\n",
        "    save_bottleneck_features(test_ds, test_labels, 'test')"
      ],
      "metadata": {
        "colab": {
          "base_uri": "https://localhost:8080/"
        },
        "id": "tZc9ldkjvh_I",
        "outputId": "3ddace34-07da-430f-e307-d2acdc691414"
      },
      "execution_count": 129,
      "outputs": [
        {
          "output_type": "stream",
          "name": "stdout",
          "text": [
            "Saving bottleneck features (train)...\n",
            "Saving bottleneck features (test)...\n"
          ]
        }
      ]
    },
    {
      "cell_type": "markdown",
      "source": [
        "### Train a classifier layer with extracted features\n",
        "- Now we can train our classifier with the extracted features\n",
        "- The classifier is simply a fully connected layer with 256 hidden units"
      ],
      "metadata": {
        "id": "UrHIDZZbZZRp"
      }
    },
    {
      "cell_type": "code",
      "source": [
        "# Build model\n",
        "with strategy.scope():\n",
        "  print('Building text classification model...')\n",
        "  top_model = tf.keras.Sequential(name='imdb_classifier')\n",
        "\n",
        "  # Flatten the embedded sequence into a dense vector\n",
        "  top_model.add(layers.Flatten(name='flatten_layer'))\n",
        "\n",
        "  # Fully connected layers with activation functions and dropout\n",
        "  top_model.add(layers.Dense(256, activation='relu', name='dense_1'))\n",
        "  top_model.add(layers.Dropout(0.5))\n",
        "  top_model.add(layers.Dense(128, activation='relu', name='dense_2'))\n",
        "  top_model.add(layers.Dropout(0.2))\n",
        "\n",
        "  # Output layer with sigmoid for binary classification\n",
        "  top_model.add(layers.Dense(1, activation='sigmoid', name='output_layer'))\n",
        "\n",
        "  # Compile the model with appropriate loss and metrics\n",
        "  top_model.compile(optimizer='adam',\n",
        "                    loss='binary_crossentropy',\n",
        "                    metrics=['accuracy'])"
      ],
      "metadata": {
        "id": "Ks1HkpkBaKKi",
        "colab": {
          "base_uri": "https://localhost:8080/"
        },
        "outputId": "d99a8fa8-194c-4f8b-aedb-fc2b74f7cac2"
      },
      "execution_count": 132,
      "outputs": [
        {
          "output_type": "stream",
          "name": "stdout",
          "text": [
            "Building text classification model...\n"
          ]
        }
      ]
    },
    {
      "cell_type": "markdown",
      "source": [
        "#### Train the top model"
      ],
      "metadata": {
        "id": "MuDl4bREaf-9"
      }
    },
    {
      "cell_type": "markdown",
      "source": [
        "##### Load the foundational model saved feature space"
      ],
      "metadata": {
        "id": "YpJeS45gN0hl"
      }
    },
    {
      "cell_type": "code",
      "source": [
        "with strategy.scope():\n",
        "  # Load bottleneck features that have already been extracted by base model\n",
        "  train_data = np.load('./bottleneck_features_train.npy')\n",
        "  # the first half of labels are sharks, and second half are dolphins\n",
        "  train_labels = np.load('./bottleneck_labels_train.npy')\n",
        "  print('Training Data Shape: ',train_data.shape, 'Training Label Shape: ',train_labels.shape)\n",
        "\n",
        "  validation_data = np.load('./bottleneck_features_test.npy')\n",
        "  # the first half of labels are sharks, and second half are dolphins\n",
        "  validation_labels = np.load('./bottleneck_labels_test.npy')\n",
        "  print('Val Data Shape: ',validation_data.shape, 'Val Label Shape: ', validation_labels.shape)\n",
        "\n"
      ],
      "metadata": {
        "colab": {
          "base_uri": "https://localhost:8080/"
        },
        "id": "-6sXjx0HNw7k",
        "outputId": "ecf652cd-ba1a-48be-fcf6-410e9e3c933e"
      },
      "execution_count": 135,
      "outputs": [
        {
          "output_type": "stream",
          "name": "stdout",
          "text": [
            "Training Data Shape:  (16000, 768) Training Label Shape:  (16000,)\n",
            "Val Data Shape:  (4000, 768) Val Label Shape:  (4000,)\n"
          ]
        }
      ]
    },
    {
      "cell_type": "code",
      "source": [
        "%%time\n",
        "\n",
        "# Define the directory where you want to save the checkpoint file\n",
        "checkpoint_dir = '/content/drive/My Drive/ML_Advance/lab2_transfer_learning/checkpoints/'\n",
        "# Create the directory if it doesn't exist\n",
        "os.makedirs(checkpoint_dir, exist_ok=True)\n",
        "\n",
        "# Define the directory where you want to save the top model weights and model itself\n",
        "top_model_dir = '/content/drive/My Drive/ML_Advance/lab2_transfer_learning/models/top_model/'\n",
        "# Create the directory if it doesn't exist\n",
        "os.makedirs(top_model_dir, exist_ok=True)\n",
        "\n",
        "# Train model\n",
        "with strategy.scope():\n",
        "    # setup params and where to save features\n",
        "    epochs = 30\n",
        "    batch_size = 64\n",
        "\n",
        "    print('Training top model, saving the checkpoint...')\n",
        "    model_checkpoint_callback = tf.keras.callbacks.ModelCheckpoint(\n",
        "        filepath=os.path.join(checkpoint_dir, 'checkpoint_{epoch:02d}.h5'),\n",
        "        save_weights_only=True,\n",
        "        monitor='val_accuracy',\n",
        "        mode='max',\n",
        "        save_best_only=True)\n",
        "\n",
        "    print('Training transfer model from bottleneck...')\n",
        "    history = top_model.fit(train_data, train_labels,\n",
        "                            epochs=epochs,\n",
        "                            batch_size=batch_size,\n",
        "                            callbacks=[model_checkpoint_callback],\n",
        "                            validation_data=(validation_data, validation_labels),\n",
        "                            verbose=1)\n",
        "\n",
        "    print('Training complete.')\n",
        "\n",
        "     # Save top model weights\n",
        "    print('Saving top model weights...')\n",
        "    top_model_weights_path = os.path.join(top_model_dir, 'top_model_weights.h5')\n",
        "    top_model.save_weights(top_model_weights_path)\n",
        "\n",
        "    # Save the entire top model\n",
        "    print('Saving the top model...')\n",
        "    top_model.save(os.path.join(top_model_dir, 'top_model.h5'))\n",
        "    print('Done!')"
      ],
      "metadata": {
        "id": "rTCnm6Gkaj8j",
        "colab": {
          "base_uri": "https://localhost:8080/"
        },
        "outputId": "8be9a7e4-58c3-4121-bde8-ef7f6bcaa1c7"
      },
      "execution_count": 147,
      "outputs": [
        {
          "output_type": "stream",
          "name": "stdout",
          "text": [
            "Training top model, saving the checkpoint...\n",
            "Training transfer model from bottleneck...\n",
            "250/250 [==============================] - 4s 16ms/step - loss: 0.5414 - accuracy: 0.6858 - val_loss: 0.5433 - val_accuracy: 0.7548\n",
            "Training complete.\n",
            "Saving top model weights...\n",
            "Saving the top model...\n",
            "Done!\n",
            "CPU times: user 2.58 s, sys: 384 ms, total: 2.97 s\n",
            "Wall time: 5.5 s\n"
          ]
        }
      ]
    },
    {
      "cell_type": "markdown",
      "source": [
        "#### Plot the result"
      ],
      "metadata": {
        "id": "Ew3oZhSid4yW"
      }
    },
    {
      "cell_type": "code",
      "source": [
        "def plot_training_validation_acc(history, smooth=False, smooth_factor=0.8):\n",
        "    def smooth_curve(points, factor=0.8):\n",
        "        smoothed_points = []\n",
        "        for point in points:\n",
        "            if smoothed_points:\n",
        "                previous = smoothed_points[-1]\n",
        "                smoothed_points.append(previous * factor + point * (1 - factor))\n",
        "            else:\n",
        "                smoothed_points.append(point)\n",
        "        return smoothed_points\n",
        "\n",
        "    acc = history.history['accuracy']\n",
        "    val_acc = history.history['val_accuracy']\n",
        "    loss = history.history['loss']\n",
        "    val_loss = history.history['val_loss']\n",
        "\n",
        "    if smooth:\n",
        "        acc = smooth_curve(acc)\n",
        "        val_acc = smooth_curve(val_acc)\n",
        "        loss = smooth_curve(loss)\n",
        "        val_loss = smooth_curve(val_loss)\n",
        "\n",
        "    epochs = range(len(acc))\n",
        "\n",
        "    plt.plot(epochs, acc, 'bo', label='Training acc')\n",
        "    plt.plot(epochs, val_acc, 'b', label='Validation acc')\n",
        "    plt.title('Training and validation accuracy')\n",
        "    plt.legend()\n",
        "\n",
        "    plt.figure()\n",
        "\n",
        "    plt.plot(epochs, loss, 'bo', label='Training loss')\n",
        "    plt.plot(epochs, val_loss, 'b', label='Validation loss')\n",
        "    plt.title('Training and validation loss')\n",
        "    plt.legend()\n",
        "\n",
        "    plt.show()\n"
      ],
      "metadata": {
        "id": "dDQpHLdrd3PW"
      },
      "execution_count": 149,
      "outputs": []
    },
    {
      "cell_type": "code",
      "source": [
        "plot_training_validation_acc(history)"
      ],
      "metadata": {
        "id": "4j2KuwqlWiOk"
      },
      "execution_count": null,
      "outputs": []
    },
    {
      "cell_type": "markdown",
      "source": [
        "#### Fine-Tune the bert\n",
        "- unfreeze 1 layer of bert and try to combine all the models together and train them, comparing it's performance with the old one."
      ],
      "metadata": {
        "id": "Z6v-agxodjCM"
      }
    },
    {
      "cell_type": "code",
      "source": [
        "%%time\n",
        "\n",
        "# # Define function to unfreeze the last layer\n",
        "# def unfreeze_last_layer(model):\n",
        "#   \"\"\"Unfreezes the last layer of a BERT model (classification head).\"\"\"\n",
        "#   set_trainable = False\n",
        "#   for layer in model.bert.encoder.layer[-1:]:\n",
        "#     for param in layer.parameters:\n",
        "#       param.requires_grad = True\n",
        "\n",
        " # make it work correctly with a TensorFlow/Keras BERT model loaded from Hugging Face Transformers.\n",
        "def unfreeze_last_layer(model):\n",
        "    \"\"\"Unfreezes the last layer of a BERT model (classification head).\"\"\"\n",
        "    model.trainable = False  # Set the entire model as non-trainable\n",
        "    for layer in model.layers:\n",
        "        if 'bert' in layer.name:  # Check if the layer belongs to the BERT model\n",
        "            for sub_layer in layer.layers[-1:]:  # Unfreeze the last layer of the BERT model\n",
        "                sub_layer.trainable = True"
      ],
      "metadata": {
        "id": "IEWkT0OQgJBN"
      },
      "execution_count": null,
      "outputs": []
    },
    {
      "cell_type": "code",
      "source": [
        "%%time\n",
        "\n",
        "#\n",
        "# Fine tune top bert 1st layer (classifier layer)\n",
        "#\n",
        "\n",
        "print('Building combined model...')\n",
        "\n",
        "# add the model on top of the top model base\n",
        "model = tf.keras.Model(inputs=bert_model.input,\n",
        "              outputs=top_model(bert_model.output))\n",
        "\n",
        "\n",
        "\n",
        "# now let's fine tune one layer within Bert\n",
        "# Freeze all blocks up to first layer (the block we are fine tuning)\n",
        "unfreeze_last_layer(bert_model)\n",
        "\n",
        "# compile the model with a SGD/momentum optimizer\n",
        "# and a very slow learning rate.\n",
        "model.compile(loss='binary_crossentropy',\n",
        "              optimizer=tf.keras.optimizers.SGD(learning_rate=1e-4, momentum=0.9),\n",
        "              metrics=['accuracy'])\n",
        "\n",
        "model.summary()"
      ],
      "metadata": {
        "id": "seCSd14bdyqi"
      },
      "execution_count": null,
      "outputs": []
    },
    {
      "cell_type": "code",
      "source": [
        "checkpoint_filepath = 'models/checkpoint'\n",
        "model_checkpoint_callback = tf.keras.callbacks.ModelCheckpoint(\n",
        "    filepath=checkpoint_filepath,\n",
        "    save_weights_only=True,\n",
        "    monitor='val_accuracy',\n",
        "    mode='max',\n",
        "    save_best_only=True)\n",
        "\n",
        "print('Fine tuning combined model...')\n",
        "history = model.fit(train_ds,\n",
        "              epochs=epochs,\n",
        "              batch_size=16,\n",
        "              callbacks=[model_checkpoint_callback],\n",
        "              validation_data=test_ds,\n",
        "              verbose=1)"
      ],
      "metadata": {
        "id": "nSzwWUlTgzRO"
      },
      "execution_count": null,
      "outputs": []
    },
    {
      "cell_type": "markdown",
      "source": [
        "#### Plot the result of the fine tuned model."
      ],
      "metadata": {
        "id": "Zh-6Qz3mhRFM"
      }
    },
    {
      "cell_type": "code",
      "source": [
        "plot_training_validation_acc(history, smooth=True)"
      ],
      "metadata": {
        "id": "twfGXvv2hbG0"
      },
      "execution_count": null,
      "outputs": []
    },
    {
      "cell_type": "code",
      "source": [
        "test_loss, test_acc = model.evaluate(val_ds)\n",
        "print('test acc:', test_acc)"
      ],
      "metadata": {
        "id": "EUG64jOJhnAL"
      },
      "execution_count": null,
      "outputs": []
    }
  ]
}